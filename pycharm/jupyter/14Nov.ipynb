{
 "cells": [
  {
   "cell_type": "code",
   "execution_count": 2,
   "metadata": {
    "collapsed": true
   },
   "outputs": [],
   "source": [
    "# %load /home/jonathan/.ipython/profile_default/startup/startup-01.py\n",
    "# start up settings for ipython\n",
    "import numpy as np\n",
    "import pandas as pd\n",
    "import matplotlib.pyplot as plt\n",
    "import os, sys\n",
    "\n",
    "plt.style.use('ggplot')\n",
    "plt.rcParams['font.size'] = 15.0\n",
    "plt.rcParams['axes.labelsize'] = 15.0\n",
    "plt.rcParams['xtick.labelsize'] = 15.0\n",
    "plt.rcParams['ytick.labelsize'] = 15.0\n",
    "plt.rcParams['legend.fontsize'] = 15.0\n",
    "\n",
    "%matplotlib inline\n",
    "\n",
    "# set the max column width\n",
    "pd.options.display.max_colwidth = 1000\n"
   ]
  },
  {
   "cell_type": "code",
   "execution_count": 3,
   "metadata": {
    "collapsed": false
   },
   "outputs": [
    {
     "ename": "FileNotFoundError",
     "evalue": "File b'../../data/processed14Nov/tender.csv' does not exist",
     "traceback": [
      "\u001b[0;31m---------------------------------------------------------------------------\u001b[0m",
      "\u001b[0;31mFileNotFoundError\u001b[0m                         Traceback (most recent call last)",
      "\u001b[0;32m<ipython-input-3-789297631a9a>\u001b[0m in \u001b[0;36m<module>\u001b[0;34m()\u001b[0m\n\u001b[0;32m----> 1\u001b[0;31m \u001b[0mtender_df\u001b[0m \u001b[0;34m=\u001b[0m \u001b[0mpd\u001b[0m\u001b[0;34m.\u001b[0m\u001b[0mread_csv\u001b[0m\u001b[0;34m(\u001b[0m\u001b[0;34m'../../data/processed14Nov/tender.csv'\u001b[0m\u001b[0;34m)\u001b[0m\u001b[0;34m\u001b[0m\u001b[0m\n\u001b[0m\u001b[1;32m      2\u001b[0m \u001b[0mtprod_df\u001b[0m \u001b[0;34m=\u001b[0m \u001b[0mpd\u001b[0m\u001b[0;34m.\u001b[0m\u001b[0mread_csv\u001b[0m\u001b[0;34m(\u001b[0m\u001b[0;34m'../../data/processed14Nov/tenderProduct.csv'\u001b[0m\u001b[0;34m)\u001b[0m\u001b[0;34m\u001b[0m\u001b[0m\n",
      "\u001b[0;32m/home/jonathan/anaconda3/lib/python3.5/site-packages/pandas/io/parsers.py\u001b[0m in \u001b[0;36mparser_f\u001b[0;34m(filepath_or_buffer, sep, delimiter, header, names, index_col, usecols, squeeze, prefix, mangle_dupe_cols, dtype, engine, converters, true_values, false_values, skipinitialspace, skiprows, nrows, na_values, keep_default_na, na_filter, verbose, skip_blank_lines, parse_dates, infer_datetime_format, keep_date_col, date_parser, dayfirst, iterator, chunksize, compression, thousands, decimal, lineterminator, quotechar, quoting, escapechar, comment, encoding, dialect, tupleize_cols, error_bad_lines, warn_bad_lines, skipfooter, skip_footer, doublequote, delim_whitespace, as_recarray, compact_ints, use_unsigned, low_memory, buffer_lines, memory_map, float_precision)\u001b[0m\n\u001b[1;32m    653\u001b[0m                     skip_blank_lines=skip_blank_lines)\n\u001b[1;32m    654\u001b[0m \u001b[0;34m\u001b[0m\u001b[0m\n\u001b[0;32m--> 655\u001b[0;31m         \u001b[0;32mreturn\u001b[0m \u001b[0m_read\u001b[0m\u001b[0;34m(\u001b[0m\u001b[0mfilepath_or_buffer\u001b[0m\u001b[0;34m,\u001b[0m \u001b[0mkwds\u001b[0m\u001b[0;34m)\u001b[0m\u001b[0;34m\u001b[0m\u001b[0m\n\u001b[0m\u001b[1;32m    656\u001b[0m \u001b[0;34m\u001b[0m\u001b[0m\n\u001b[1;32m    657\u001b[0m     \u001b[0mparser_f\u001b[0m\u001b[0;34m.\u001b[0m\u001b[0m__name__\u001b[0m \u001b[0;34m=\u001b[0m \u001b[0mname\u001b[0m\u001b[0;34m\u001b[0m\u001b[0m\n",
      "\u001b[0;32m/home/jonathan/anaconda3/lib/python3.5/site-packages/pandas/io/parsers.py\u001b[0m in \u001b[0;36m_read\u001b[0;34m(filepath_or_buffer, kwds)\u001b[0m\n\u001b[1;32m    403\u001b[0m \u001b[0;34m\u001b[0m\u001b[0m\n\u001b[1;32m    404\u001b[0m     \u001b[0;31m# Create the parser.\u001b[0m\u001b[0;34m\u001b[0m\u001b[0;34m\u001b[0m\u001b[0m\n\u001b[0;32m--> 405\u001b[0;31m     \u001b[0mparser\u001b[0m \u001b[0;34m=\u001b[0m \u001b[0mTextFileReader\u001b[0m\u001b[0;34m(\u001b[0m\u001b[0mfilepath_or_buffer\u001b[0m\u001b[0;34m,\u001b[0m \u001b[0;34m**\u001b[0m\u001b[0mkwds\u001b[0m\u001b[0;34m)\u001b[0m\u001b[0;34m\u001b[0m\u001b[0m\n\u001b[0m\u001b[1;32m    406\u001b[0m \u001b[0;34m\u001b[0m\u001b[0m\n\u001b[1;32m    407\u001b[0m     \u001b[0;32mif\u001b[0m \u001b[0mchunksize\u001b[0m \u001b[0;32mor\u001b[0m \u001b[0miterator\u001b[0m\u001b[0;34m:\u001b[0m\u001b[0;34m\u001b[0m\u001b[0m\n",
      "\u001b[0;32m/home/jonathan/anaconda3/lib/python3.5/site-packages/pandas/io/parsers.py\u001b[0m in \u001b[0;36m__init__\u001b[0;34m(self, f, engine, **kwds)\u001b[0m\n\u001b[1;32m    762\u001b[0m             \u001b[0mself\u001b[0m\u001b[0;34m.\u001b[0m\u001b[0moptions\u001b[0m\u001b[0;34m[\u001b[0m\u001b[0;34m'has_index_names'\u001b[0m\u001b[0;34m]\u001b[0m \u001b[0;34m=\u001b[0m \u001b[0mkwds\u001b[0m\u001b[0;34m[\u001b[0m\u001b[0;34m'has_index_names'\u001b[0m\u001b[0;34m]\u001b[0m\u001b[0;34m\u001b[0m\u001b[0m\n\u001b[1;32m    763\u001b[0m \u001b[0;34m\u001b[0m\u001b[0m\n\u001b[0;32m--> 764\u001b[0;31m         \u001b[0mself\u001b[0m\u001b[0;34m.\u001b[0m\u001b[0m_make_engine\u001b[0m\u001b[0;34m(\u001b[0m\u001b[0mself\u001b[0m\u001b[0;34m.\u001b[0m\u001b[0mengine\u001b[0m\u001b[0;34m)\u001b[0m\u001b[0;34m\u001b[0m\u001b[0m\n\u001b[0m\u001b[1;32m    765\u001b[0m \u001b[0;34m\u001b[0m\u001b[0m\n\u001b[1;32m    766\u001b[0m     \u001b[0;32mdef\u001b[0m \u001b[0mclose\u001b[0m\u001b[0;34m(\u001b[0m\u001b[0mself\u001b[0m\u001b[0;34m)\u001b[0m\u001b[0;34m:\u001b[0m\u001b[0;34m\u001b[0m\u001b[0m\n",
      "\u001b[0;32m/home/jonathan/anaconda3/lib/python3.5/site-packages/pandas/io/parsers.py\u001b[0m in \u001b[0;36m_make_engine\u001b[0;34m(self, engine)\u001b[0m\n\u001b[1;32m    983\u001b[0m     \u001b[0;32mdef\u001b[0m \u001b[0m_make_engine\u001b[0m\u001b[0;34m(\u001b[0m\u001b[0mself\u001b[0m\u001b[0;34m,\u001b[0m \u001b[0mengine\u001b[0m\u001b[0;34m=\u001b[0m\u001b[0;34m'c'\u001b[0m\u001b[0;34m)\u001b[0m\u001b[0;34m:\u001b[0m\u001b[0;34m\u001b[0m\u001b[0m\n\u001b[1;32m    984\u001b[0m         \u001b[0;32mif\u001b[0m \u001b[0mengine\u001b[0m \u001b[0;34m==\u001b[0m \u001b[0;34m'c'\u001b[0m\u001b[0;34m:\u001b[0m\u001b[0;34m\u001b[0m\u001b[0m\n\u001b[0;32m--> 985\u001b[0;31m             \u001b[0mself\u001b[0m\u001b[0;34m.\u001b[0m\u001b[0m_engine\u001b[0m \u001b[0;34m=\u001b[0m \u001b[0mCParserWrapper\u001b[0m\u001b[0;34m(\u001b[0m\u001b[0mself\u001b[0m\u001b[0;34m.\u001b[0m\u001b[0mf\u001b[0m\u001b[0;34m,\u001b[0m \u001b[0;34m**\u001b[0m\u001b[0mself\u001b[0m\u001b[0;34m.\u001b[0m\u001b[0moptions\u001b[0m\u001b[0;34m)\u001b[0m\u001b[0;34m\u001b[0m\u001b[0m\n\u001b[0m\u001b[1;32m    986\u001b[0m         \u001b[0;32melse\u001b[0m\u001b[0;34m:\u001b[0m\u001b[0;34m\u001b[0m\u001b[0m\n\u001b[1;32m    987\u001b[0m             \u001b[0;32mif\u001b[0m \u001b[0mengine\u001b[0m \u001b[0;34m==\u001b[0m \u001b[0;34m'python'\u001b[0m\u001b[0;34m:\u001b[0m\u001b[0;34m\u001b[0m\u001b[0m\n",
      "\u001b[0;32m/home/jonathan/anaconda3/lib/python3.5/site-packages/pandas/io/parsers.py\u001b[0m in \u001b[0;36m__init__\u001b[0;34m(self, src, **kwds)\u001b[0m\n\u001b[1;32m   1603\u001b[0m         \u001b[0mkwds\u001b[0m\u001b[0;34m[\u001b[0m\u001b[0;34m'allow_leading_cols'\u001b[0m\u001b[0;34m]\u001b[0m \u001b[0;34m=\u001b[0m \u001b[0mself\u001b[0m\u001b[0;34m.\u001b[0m\u001b[0mindex_col\u001b[0m \u001b[0;32mis\u001b[0m \u001b[0;32mnot\u001b[0m \u001b[0;32mFalse\u001b[0m\u001b[0;34m\u001b[0m\u001b[0m\n\u001b[1;32m   1604\u001b[0m \u001b[0;34m\u001b[0m\u001b[0m\n\u001b[0;32m-> 1605\u001b[0;31m         \u001b[0mself\u001b[0m\u001b[0;34m.\u001b[0m\u001b[0m_reader\u001b[0m \u001b[0;34m=\u001b[0m \u001b[0mparsers\u001b[0m\u001b[0;34m.\u001b[0m\u001b[0mTextReader\u001b[0m\u001b[0;34m(\u001b[0m\u001b[0msrc\u001b[0m\u001b[0;34m,\u001b[0m \u001b[0;34m**\u001b[0m\u001b[0mkwds\u001b[0m\u001b[0;34m)\u001b[0m\u001b[0;34m\u001b[0m\u001b[0m\n\u001b[0m\u001b[1;32m   1606\u001b[0m \u001b[0;34m\u001b[0m\u001b[0m\n\u001b[1;32m   1607\u001b[0m         \u001b[0;31m# XXX\u001b[0m\u001b[0;34m\u001b[0m\u001b[0;34m\u001b[0m\u001b[0m\n",
      "\u001b[0;32mpandas/_libs/parsers.pyx\u001b[0m in \u001b[0;36mpandas._libs.parsers.TextReader.__cinit__ (pandas/_libs/parsers.c:4209)\u001b[0;34m()\u001b[0m\n",
      "\u001b[0;32mpandas/_libs/parsers.pyx\u001b[0m in \u001b[0;36mpandas._libs.parsers.TextReader._setup_parser_source (pandas/_libs/parsers.c:8873)\u001b[0;34m()\u001b[0m\n",
      "\u001b[0;31mFileNotFoundError\u001b[0m: File b'../../data/processed14Nov/tender.csv' does not exist"
     ],
     "output_type": "error"
    }
   ],
   "source": [
    "tender_df = pd.read_csv('../../data/processed14Nov/tender.csv')\n",
    "tprod_df = pd.read_csv('../../data/processed14Nov/tenderProduct.csv')"
   ]
  },
  {
   "cell_type": "code",
   "execution_count": 184,
   "metadata": {
    "collapsed": false
   },
   "outputs": [
    {
     "data": {
      "text/html": [
       "<div>\n",
       "<style>\n",
       "    .dataframe thead tr:only-child th {\n",
       "        text-align: right;\n",
       "    }\n",
       "\n",
       "    .dataframe thead th {\n",
       "        text-align: left;\n",
       "    }\n",
       "\n",
       "    .dataframe tbody tr th {\n",
       "        vertical-align: top;\n",
       "    }\n",
       "</style>\n",
       "<table border=\"1\" class=\"dataframe\">\n",
       "  <thead>\n",
       "    <tr style=\"text-align: right;\">\n",
       "      <th></th>\n",
       "      <th>AdjudicacionNumeroOferentes</th>\n",
       "      <th>AdjudicacionTipo</th>\n",
       "      <th>CantidadReclamos</th>\n",
       "      <th>CodigoEstado</th>\n",
       "      <th>CodigoTipo</th>\n",
       "      <th>CompradorCodigoOrganismo</th>\n",
       "      <th>CompradorCodigoUnidad</th>\n",
       "      <th>CompradorCodigoUsuario</th>\n",
       "      <th>Contrato</th>\n",
       "      <th>DiasCierreLicitacion</th>\n",
       "      <th>...</th>\n",
       "      <th>TipoConvocatoria</th>\n",
       "      <th>TipoPago</th>\n",
       "      <th>TomaRazon</th>\n",
       "      <th>UnidadTiempo</th>\n",
       "      <th>UnidadTiempoContratoLicitacion</th>\n",
       "      <th>UnidadTiempoDuracionContrato</th>\n",
       "      <th>UnidadTiempoEvaluacion</th>\n",
       "      <th>ValorTiempoRenovacion</th>\n",
       "      <th>VisibilidadMonto</th>\n",
       "      <th>tender_product_duplicated</th>\n",
       "    </tr>\n",
       "  </thead>\n",
       "  <tbody>\n",
       "    <tr>\n",
       "      <th>count</th>\n",
       "      <td>16593.000000</td>\n",
       "      <td>13440.000000</td>\n",
       "      <td>17165.000000</td>\n",
       "      <td>17165.000000</td>\n",
       "      <td>17165.000000</td>\n",
       "      <td>1.716500e+04</td>\n",
       "      <td>17165.000000</td>\n",
       "      <td>1.716500e+04</td>\n",
       "      <td>16995.000000</td>\n",
       "      <td>17165.0</td>\n",
       "      <td>...</td>\n",
       "      <td>17165.000000</td>\n",
       "      <td>17165.000000</td>\n",
       "      <td>17165.000000</td>\n",
       "      <td>17165.000000</td>\n",
       "      <td>17165.000000</td>\n",
       "      <td>17165.000000</td>\n",
       "      <td>16623.000000</td>\n",
       "      <td>17165.0</td>\n",
       "      <td>17165.000000</td>\n",
       "      <td>9.000000</td>\n",
       "    </tr>\n",
       "    <tr>\n",
       "      <th>mean</th>\n",
       "      <td>4.590671</td>\n",
       "      <td>2.787128</td>\n",
       "      <td>311.784212</td>\n",
       "      <td>7.869152</td>\n",
       "      <td>1.025750</td>\n",
       "      <td>8.036910e+04</td>\n",
       "      <td>54763.002738</td>\n",
       "      <td>1.008100e+06</td>\n",
       "      <td>0.318800</td>\n",
       "      <td>0.0</td>\n",
       "      <td>...</td>\n",
       "      <td>0.987125</td>\n",
       "      <td>2.664200</td>\n",
       "      <td>0.003495</td>\n",
       "      <td>1.047713</td>\n",
       "      <td>0.750539</td>\n",
       "      <td>1.490883</td>\n",
       "      <td>1.049269</td>\n",
       "      <td>0.0</td>\n",
       "      <td>0.370987</td>\n",
       "      <td>14.333333</td>\n",
       "    </tr>\n",
       "    <tr>\n",
       "      <th>std</th>\n",
       "      <td>5.701965</td>\n",
       "      <td>1.144841</td>\n",
       "      <td>530.086641</td>\n",
       "      <td>0.890213</td>\n",
       "      <td>0.225477</td>\n",
       "      <td>1.367779e+05</td>\n",
       "      <td>181734.125820</td>\n",
       "      <td>4.825238e+05</td>\n",
       "      <td>0.607742</td>\n",
       "      <td>0.0</td>\n",
       "      <td>...</td>\n",
       "      <td>0.112739</td>\n",
       "      <td>1.147034</td>\n",
       "      <td>0.059021</td>\n",
       "      <td>0.239912</td>\n",
       "      <td>0.699144</td>\n",
       "      <td>1.059570</td>\n",
       "      <td>0.243635</td>\n",
       "      <td>0.0</td>\n",
       "      <td>0.483083</td>\n",
       "      <td>12.825755</td>\n",
       "    </tr>\n",
       "    <tr>\n",
       "      <th>min</th>\n",
       "      <td>0.000000</td>\n",
       "      <td>1.000000</td>\n",
       "      <td>0.000000</td>\n",
       "      <td>6.000000</td>\n",
       "      <td>1.000000</td>\n",
       "      <td>6.918000e+03</td>\n",
       "      <td>1005.000000</td>\n",
       "      <td>5.000000e+00</td>\n",
       "      <td>0.000000</td>\n",
       "      <td>0.0</td>\n",
       "      <td>...</td>\n",
       "      <td>0.000000</td>\n",
       "      <td>1.000000</td>\n",
       "      <td>0.000000</td>\n",
       "      <td>1.000000</td>\n",
       "      <td>0.000000</td>\n",
       "      <td>1.000000</td>\n",
       "      <td>1.000000</td>\n",
       "      <td>0.0</td>\n",
       "      <td>0.000000</td>\n",
       "      <td>3.000000</td>\n",
       "    </tr>\n",
       "    <tr>\n",
       "      <th>25%</th>\n",
       "      <td>1.000000</td>\n",
       "      <td>2.000000</td>\n",
       "      <td>43.000000</td>\n",
       "      <td>8.000000</td>\n",
       "      <td>1.000000</td>\n",
       "      <td>7.319000e+03</td>\n",
       "      <td>3002.000000</td>\n",
       "      <td>5.263950e+05</td>\n",
       "      <td>0.000000</td>\n",
       "      <td>0.0</td>\n",
       "      <td>...</td>\n",
       "      <td>1.000000</td>\n",
       "      <td>2.000000</td>\n",
       "      <td>0.000000</td>\n",
       "      <td>1.000000</td>\n",
       "      <td>0.000000</td>\n",
       "      <td>1.000000</td>\n",
       "      <td>1.000000</td>\n",
       "      <td>0.0</td>\n",
       "      <td>0.000000</td>\n",
       "      <td>6.000000</td>\n",
       "    </tr>\n",
       "    <tr>\n",
       "      <th>50%</th>\n",
       "      <td>3.000000</td>\n",
       "      <td>2.000000</td>\n",
       "      <td>122.000000</td>\n",
       "      <td>8.000000</td>\n",
       "      <td>1.000000</td>\n",
       "      <td>8.687200e+04</td>\n",
       "      <td>3726.000000</td>\n",
       "      <td>1.217042e+06</td>\n",
       "      <td>0.000000</td>\n",
       "      <td>0.0</td>\n",
       "      <td>...</td>\n",
       "      <td>1.000000</td>\n",
       "      <td>2.000000</td>\n",
       "      <td>0.000000</td>\n",
       "      <td>1.000000</td>\n",
       "      <td>1.000000</td>\n",
       "      <td>1.000000</td>\n",
       "      <td>1.000000</td>\n",
       "      <td>0.0</td>\n",
       "      <td>0.000000</td>\n",
       "      <td>10.000000</td>\n",
       "    </tr>\n",
       "    <tr>\n",
       "      <th>75%</th>\n",
       "      <td>6.000000</td>\n",
       "      <td>4.000000</td>\n",
       "      <td>309.000000</td>\n",
       "      <td>8.000000</td>\n",
       "      <td>1.000000</td>\n",
       "      <td>1.138120e+05</td>\n",
       "      <td>4947.000000</td>\n",
       "      <td>1.374063e+06</td>\n",
       "      <td>0.000000</td>\n",
       "      <td>0.0</td>\n",
       "      <td>...</td>\n",
       "      <td>1.000000</td>\n",
       "      <td>4.000000</td>\n",
       "      <td>0.000000</td>\n",
       "      <td>1.000000</td>\n",
       "      <td>1.000000</td>\n",
       "      <td>1.000000</td>\n",
       "      <td>1.000000</td>\n",
       "      <td>0.0</td>\n",
       "      <td>1.000000</td>\n",
       "      <td>20.000000</td>\n",
       "    </tr>\n",
       "    <tr>\n",
       "      <th>max</th>\n",
       "      <td>69.000000</td>\n",
       "      <td>6.000000</td>\n",
       "      <td>3191.000000</td>\n",
       "      <td>16.000000</td>\n",
       "      <td>3.000000</td>\n",
       "      <td>1.512218e+06</td>\n",
       "      <td>931768.000000</td>\n",
       "      <td>1.529323e+06</td>\n",
       "      <td>2.000000</td>\n",
       "      <td>0.0</td>\n",
       "      <td>...</td>\n",
       "      <td>1.000000</td>\n",
       "      <td>4.000000</td>\n",
       "      <td>1.000000</td>\n",
       "      <td>4.000000</td>\n",
       "      <td>2.000000</td>\n",
       "      <td>4.000000</td>\n",
       "      <td>4.000000</td>\n",
       "      <td>0.0</td>\n",
       "      <td>1.000000</td>\n",
       "      <td>44.000000</td>\n",
       "    </tr>\n",
       "  </tbody>\n",
       "</table>\n",
       "<p>8 rows × 42 columns</p>\n",
       "</div>"
      ],
      "text/plain": [
       "       AdjudicacionNumeroOferentes  AdjudicacionTipo  CantidadReclamos  \\\n",
       "count                 16593.000000      13440.000000      17165.000000   \n",
       "mean                      4.590671          2.787128        311.784212   \n",
       "std                       5.701965          1.144841        530.086641   \n",
       "min                       0.000000          1.000000          0.000000   \n",
       "25%                       1.000000          2.000000         43.000000   \n",
       "50%                       3.000000          2.000000        122.000000   \n",
       "75%                       6.000000          4.000000        309.000000   \n",
       "max                      69.000000          6.000000       3191.000000   \n",
       "\n",
       "       CodigoEstado    CodigoTipo  CompradorCodigoOrganismo  \\\n",
       "count  17165.000000  17165.000000              1.716500e+04   \n",
       "mean       7.869152      1.025750              8.036910e+04   \n",
       "std        0.890213      0.225477              1.367779e+05   \n",
       "min        6.000000      1.000000              6.918000e+03   \n",
       "25%        8.000000      1.000000              7.319000e+03   \n",
       "50%        8.000000      1.000000              8.687200e+04   \n",
       "75%        8.000000      1.000000              1.138120e+05   \n",
       "max       16.000000      3.000000              1.512218e+06   \n",
       "\n",
       "       CompradorCodigoUnidad  CompradorCodigoUsuario      Contrato  \\\n",
       "count           17165.000000            1.716500e+04  16995.000000   \n",
       "mean            54763.002738            1.008100e+06      0.318800   \n",
       "std            181734.125820            4.825238e+05      0.607742   \n",
       "min              1005.000000            5.000000e+00      0.000000   \n",
       "25%              3002.000000            5.263950e+05      0.000000   \n",
       "50%              3726.000000            1.217042e+06      0.000000   \n",
       "75%              4947.000000            1.374063e+06      0.000000   \n",
       "max            931768.000000            1.529323e+06      2.000000   \n",
       "\n",
       "       DiasCierreLicitacion            ...              TipoConvocatoria  \\\n",
       "count               17165.0            ...                  17165.000000   \n",
       "mean                    0.0            ...                      0.987125   \n",
       "std                     0.0            ...                      0.112739   \n",
       "min                     0.0            ...                      0.000000   \n",
       "25%                     0.0            ...                      1.000000   \n",
       "50%                     0.0            ...                      1.000000   \n",
       "75%                     0.0            ...                      1.000000   \n",
       "max                     0.0            ...                      1.000000   \n",
       "\n",
       "           TipoPago     TomaRazon  UnidadTiempo  \\\n",
       "count  17165.000000  17165.000000  17165.000000   \n",
       "mean       2.664200      0.003495      1.047713   \n",
       "std        1.147034      0.059021      0.239912   \n",
       "min        1.000000      0.000000      1.000000   \n",
       "25%        2.000000      0.000000      1.000000   \n",
       "50%        2.000000      0.000000      1.000000   \n",
       "75%        4.000000      0.000000      1.000000   \n",
       "max        4.000000      1.000000      4.000000   \n",
       "\n",
       "       UnidadTiempoContratoLicitacion  UnidadTiempoDuracionContrato  \\\n",
       "count                    17165.000000                  17165.000000   \n",
       "mean                         0.750539                      1.490883   \n",
       "std                          0.699144                      1.059570   \n",
       "min                          0.000000                      1.000000   \n",
       "25%                          0.000000                      1.000000   \n",
       "50%                          1.000000                      1.000000   \n",
       "75%                          1.000000                      1.000000   \n",
       "max                          2.000000                      4.000000   \n",
       "\n",
       "       UnidadTiempoEvaluacion  ValorTiempoRenovacion  VisibilidadMonto  \\\n",
       "count            16623.000000                17165.0      17165.000000   \n",
       "mean                 1.049269                    0.0          0.370987   \n",
       "std                  0.243635                    0.0          0.483083   \n",
       "min                  1.000000                    0.0          0.000000   \n",
       "25%                  1.000000                    0.0          0.000000   \n",
       "50%                  1.000000                    0.0          0.000000   \n",
       "75%                  1.000000                    0.0          1.000000   \n",
       "max                  4.000000                    0.0          1.000000   \n",
       "\n",
       "       tender_product_duplicated  \n",
       "count                   9.000000  \n",
       "mean                   14.333333  \n",
       "std                    12.825755  \n",
       "min                     3.000000  \n",
       "25%                     6.000000  \n",
       "50%                    10.000000  \n",
       "75%                    20.000000  \n",
       "max                    44.000000  \n",
       "\n",
       "[8 rows x 42 columns]"
      ]
     },
     "execution_count": 184,
     "metadata": {},
     "output_type": "execute_result"
    }
   ],
   "source": [
    "tender_df.describe()"
   ]
  },
  {
   "cell_type": "code",
   "execution_count": 185,
   "metadata": {
    "collapsed": false
   },
   "outputs": [
    {
     "name": "stdout",
     "output_type": "stream",
     "text": [
      "DiasCierreLicitacion\n",
      "EsBaseTipo\n",
      "EsRenovable\n",
      "ValorTiempoRenovacion\n"
     ]
    }
   ],
   "source": [
    "describe_df = tender_df.describe()\n",
    "for colname in describe_df.columns:\n",
    "    if describe_df.loc['std', colname] == 0:\n",
    "        print(colname)"
   ]
  },
  {
   "cell_type": "code",
   "execution_count": 186,
   "metadata": {
    "collapsed": false
   },
   "outputs": [],
   "source": [
    "tsmall_df = tender_df.drop(['DiasCierreLicitacion', 'EsBaseTipo', 'EsRenovable', 'ValorTiempoRenovacion'], axis='columns')"
   ]
  },
  {
   "cell_type": "code",
   "execution_count": 187,
   "metadata": {
    "collapsed": false
   },
   "outputs": [
    {
     "data": {
      "text/plain": [
       "(17165, 84)"
      ]
     },
     "execution_count": 187,
     "metadata": {},
     "output_type": "execute_result"
    }
   ],
   "source": [
    "tender_df.shape"
   ]
  },
  {
   "cell_type": "code",
   "execution_count": 188,
   "metadata": {
    "collapsed": false
   },
   "outputs": [
    {
     "data": {
      "text/plain": [
       "array([ nan])"
      ]
     },
     "execution_count": 188,
     "metadata": {},
     "output_type": "execute_result"
    }
   ],
   "source": [
    "tsmall_df['DireccionEntrega'].unique()"
   ]
  },
  {
   "cell_type": "code",
   "execution_count": 189,
   "metadata": {
    "collapsed": false
   },
   "outputs": [],
   "source": [
    "perc_null_series = tsmall_df.isnull().sum() / 17165\n",
    "\n",
    "all_null_series = perc_null_series[(perc_null_series == 1.0)]\n",
    "\n",
    "# tsmall_df = tsmall_df.drop(all_null_series.index.values, axis='columns')"
   ]
  },
  {
   "cell_type": "code",
   "execution_count": 190,
   "metadata": {
    "collapsed": false
   },
   "outputs": [],
   "source": [
    "very_null_series = perc_null_series[perc_null_series > 0.9]\n",
    "very_null_series_cols = very_null_series.index.values\n",
    "very_null_series_cols = [colname for colname in very_null_series_cols if 'tender_product_duplicated' not in colname]"
   ]
  },
  {
   "cell_type": "code",
   "execution_count": 191,
   "metadata": {
    "collapsed": false
   },
   "outputs": [],
   "source": [
    "tsmall_df = tsmall_df.drop(very_null_series_cols, axis='columns')"
   ]
  },
  {
   "cell_type": "markdown",
   "metadata": {},
   "source": [
    "### Remove cases which has 1 tender product"
   ]
  },
  {
   "cell_type": "code",
   "execution_count": 192,
   "metadata": {
    "collapsed": false
   },
   "outputs": [],
   "source": [
    "one_tprod_df = tender_df[(tender_df.ItemsCantidad == 1)]\n",
    "tsmall_df = tsmall_df[~(tsmall_df['CodigoExterno'].isin(one_tprod_df['CodigoExterno'].values))]"
   ]
  },
  {
   "cell_type": "code",
   "execution_count": 193,
   "metadata": {
    "collapsed": false
   },
   "outputs": [],
   "source": [
    "outdir = os.path.join('..', '..', 'data', 'processed14Nov')\n",
    "tsmall_df.to_csv(os.path.join(outdir, 'tsmall.csv'), index=None)"
   ]
  },
  {
   "cell_type": "code",
   "execution_count": null,
   "metadata": {
    "collapsed": true
   },
   "outputs": [],
   "source": []
  },
  {
   "cell_type": "code",
   "execution_count": 194,
   "metadata": {
    "collapsed": false
   },
   "outputs": [],
   "source": [
    "describe_df = tprod_df.describe()\n",
    "for colname in describe_df.columns:\n",
    "    if describe_df.loc['std', colname] == 0:\n",
    "        print(colname)"
   ]
  },
  {
   "cell_type": "code",
   "execution_count": 195,
   "metadata": {
    "collapsed": false
   },
   "outputs": [],
   "source": [
    "perc_null_series = tprod_df.isnull().sum() / tprod_df.shape[0]\n",
    "\n",
    "all_null_series = perc_null_series[(perc_null_series == 1.0)]\n",
    "\n",
    "# tsmall_df = tsmall_df.drop(all_null_series.index.values, axis='columns')"
   ]
  },
  {
   "cell_type": "code",
   "execution_count": 196,
   "metadata": {
    "collapsed": false
   },
   "outputs": [],
   "source": [
    "very_null_series = perc_null_series[perc_null_series > 0.8]\n",
    "very_null_series_cols = very_null_series.index.values"
   ]
  },
  {
   "cell_type": "markdown",
   "metadata": {},
   "source": [
    "### Remove tender products which are of 1 tender product"
   ]
  },
  {
   "cell_type": "code",
   "execution_count": 197,
   "metadata": {
    "collapsed": true
   },
   "outputs": [],
   "source": [
    "tsprod_df = tprod_df[~(tprod_df['CodigoExterno'].isin(one_tprod_df['CodigoExterno'].values))]"
   ]
  },
  {
   "cell_type": "code",
   "execution_count": 198,
   "metadata": {
    "collapsed": true
   },
   "outputs": [],
   "source": [
    "tsprod_df.to_csv(os.path.join(outdir, 'tsprod.csv'), index=None)"
   ]
  },
  {
   "cell_type": "code",
   "execution_count": null,
   "metadata": {
    "collapsed": true
   },
   "outputs": [],
   "source": []
  }
 ],
 "metadata": {
  "kernelspec": {
   "display_name": "Python [conda root]",
   "language": "python",
   "name": "conda-root-py"
  },
  "language_info": {
   "codemirror_mode": {
    "name": "ipython",
    "version": 3
   },
   "file_extension": ".py",
   "mimetype": "text/x-python",
   "name": "python",
   "nbconvert_exporter": "python",
   "pygments_lexer": "ipython3",
   "version": "3.5.2"
  }
 },
 "nbformat": 4,
 "nbformat_minor": 2
}
