{
 "cells": [
  {
   "cell_type": "code",
   "execution_count": 1,
   "metadata": {
    "collapsed": true
   },
   "outputs": [],
   "source": [
    "# %load /home/jonathan/.ipython/profile_default/startup/startup-01.py\n",
    "# start up settings for ipython\n",
    "import numpy as np\n",
    "import pandas as pd\n",
    "import matplotlib.pyplot as plt\n",
    "import os, sys\n",
    "\n",
    "plt.style.use('ggplot')\n",
    "plt.rcParams['font.size'] = 15.0\n",
    "plt.rcParams['axes.labelsize'] = 15.0\n",
    "plt.rcParams['xtick.labelsize'] = 15.0\n",
    "plt.rcParams['ytick.labelsize'] = 15.0\n",
    "plt.rcParams['legend.fontsize'] = 15.0\n",
    "\n",
    "%matplotlib inline\n",
    "\n",
    "# set the max column width\n",
    "pd.options.display.max_colwidth = 1000\n",
    "pd.options.mode.chained_assignment = None "
   ]
  },
  {
   "cell_type": "code",
   "execution_count": 2,
   "metadata": {
    "collapsed": true
   },
   "outputs": [],
   "source": [
    "import functools as fcts"
   ]
  },
  {
   "cell_type": "markdown",
   "metadata": {},
   "source": [
    "# Tender sale as quality criteria\n",
    "~20% of the tenders are deserted for various reasons, e.g., no offers. This means ~3000 tenders and ~7000 tender products are not sold. However, what happens to the deserted tenders? Investigation shows that public organizations actually can republish the same tender. As such, $\\textit{tender traces}$ can occur where each item of the tender trace is an individual tender. Some trace actually ends with a tender that is sold. \n",
    "For example: (example where tender trace ends with a sold tender, explain that the company who bid could not have been created in 18 days)\n",
    "\n",
    "## Research questions\n",
    "- What characteristics do traces that end with sold state?\n",
    "- Does the $\\textit{persistence}$ of the related public organizations relate in better sale rate in general?\n",
    "- Are there external factors, e.g., product type, region, and complaint number, affect the outcome of tender traces?\n",
    "\n",
    "## Experiment design\n",
    "- Classification to classify these different types of traces\n",
    "- Clustering"
   ]
  },
  {
   "cell_type": "markdown",
   "metadata": {},
   "source": [
    "## Preprocessing\n",
    "1. Remove columns with >90% null values or 0 variance\n",
    "2. Remove tenders with 1 tender product\n",
    "3. Get deserted tenders\n",
    "4. Do not consider tenders related to hospital and health because of granularity issues, many times there are such big variances in product of the same product code that make it difficult to differentiate one tender product from other without looking into the contract.\n",
    "5. For all the deserted tenders, find similar tenders by the tender name and organization.\n",
    "6. Filter tender traces by validating the tender products and tender publication and close dates"
   ]
  },
  {
   "cell_type": "code",
   "execution_count": 3,
   "metadata": {
    "collapsed": true
   },
   "outputs": [],
   "source": [
    "tender_df = pd.read_csv('../../data/processed14Nov/tsmall.csv')\n",
    "tprod_df = pd.read_csv('../../data/processed14Nov/tsprod.csv')"
   ]
  },
  {
   "cell_type": "code",
   "execution_count": 4,
   "metadata": {
    "collapsed": true
   },
   "outputs": [],
   "source": [
    "tall_df = tprod_df.merge(tender_df, on='CodigoExterno')"
   ]
  },
  {
   "cell_type": "code",
   "execution_count": 6,
   "metadata": {
    "collapsed": false
   },
   "outputs": [
    {
     "data": {
      "text/plain": [
       "(63116, 13)"
      ]
     },
     "execution_count": 6,
     "metadata": {},
     "output_type": "execute_result"
    }
   ],
   "source": [
    "tprod_df.shape"
   ]
  },
  {
   "cell_type": "markdown",
   "metadata": {},
   "source": [
    "## Getting the deserted tender traces of length > 1"
   ]
  },
  {
   "cell_type": "markdown",
   "metadata": {},
   "source": [
    "### Get deserted tenders"
   ]
  },
  {
   "cell_type": "code",
   "execution_count": 5,
   "metadata": {
    "collapsed": true
   },
   "outputs": [],
   "source": [
    "tdesert_df = tender_df[\n",
    "    (tender_df['Estado'].str.lower().str.startswith('desier'))\n",
    "]\n",
    "tdesert_tids = tdesert_df['CodigoExterno'].values\n",
    "tdprod_df = tprod_df[(tprod_df['CodigoExterno'].isin(tdesert_tids))]\n",
    "desert_df = tdprod_df.merge(tdesert_df, on='CodigoExterno')"
   ]
  },
  {
   "cell_type": "code",
   "execution_count": 6,
   "metadata": {
    "collapsed": true
   },
   "outputs": [],
   "source": [
    "# the following organizations have low quality description in their tenders, basically they use the same tender name \n",
    "# for the majority of their tenders\n",
    "excl_org_code = [7326, 87901]\n",
    "# some examples that did not make sense and therefore excluded\n",
    "excl_tid = ['3928-78-L116', '3928-82-L116', '3477-236-L116', '3477-241-L116',\n",
    "           '2409-878-L116', '2409-910-L116']\n",
    "\n",
    "deserted = tdesert_df[\n",
    "    ~(tdesert_df['CompradorCodigoOrganismo'].isin(excl_org_code))&\n",
    "    ~(tdesert_df['CompradorNombreOrganismo'].str.lower().str.startswith('hospital'))&\n",
    "    ~(tdesert_df['CompradorNombreOrganismo'].str.lower().str.contains('salud'))&\n",
    "    ~(tdesert_df['CodigoExterno'].isin(excl_tid))\n",
    "][['CodigoExterno', 'Nombre', 'FechasFechaPublicacion', 'FechasFechaCierre', 'CompradorCodigoOrganismo']].sort_values('FechasFechaPublicacion')\n",
    "\n",
    "similar_df = pd.DataFrame()\n",
    "checked = list()\n",
    "for td in deserted.itertuples():\n",
    "    if [td.CompradorCodigoOrganismo, td.Nombre] in checked:\n",
    "        continue\n",
    "    checked.append([td.CompradorCodigoOrganismo, td.Nombre])\n",
    "    similar = tender_df[\n",
    "        (tender_df['CompradorCodigoOrganismo']==td.CompradorCodigoOrganismo)&\n",
    "        (tender_df['Nombre']==td.Nombre)\n",
    "    ].sort_values('FechasFechaPublicacion')[['Estado', 'FechasFechaPublicacion', 'FechasFechaCierre', 'Nombre',\n",
    "                                             'CompradorNombreOrganismo', 'CompradorCodigoOrganismo', 'AdjudicacionUrlActa', 'CodigoExterno']]\n",
    "    if similar_df.empty:\n",
    "        similar_df = similar\n",
    "    else:\n",
    "        similar_df = pd.concat([similar_df, similar], axis=0)\n",
    "    "
   ]
  },
  {
   "cell_type": "markdown",
   "metadata": {},
   "source": [
    "### Consider only traces with length > 1 and ensure validity"
   ]
  },
  {
   "cell_type": "code",
   "execution_count": 7,
   "metadata": {
    "collapsed": false
   },
   "outputs": [
    {
     "data": {
      "text/plain": [
       "(598, 68)"
      ]
     },
     "execution_count": 7,
     "metadata": {},
     "output_type": "execute_result"
    }
   ],
   "source": [
    "tender_df[(tender_df['Estado'].str.lower().str.startswith('desi'))].shape"
   ]
  },
  {
   "cell_type": "code",
   "execution_count": 8,
   "metadata": {
    "collapsed": false
   },
   "outputs": [
    {
     "name": "stdout",
     "output_type": "stream",
     "text": [
      "Total deserted: (427,)\n",
      "Total traces > 1: (35,)\n"
     ]
    }
   ],
   "source": [
    "trace_spec = similar_df.groupby('Nombre').size()\n",
    "print('Total deserted: {}\\nTotal traces > 1: {}'.format(trace_spec[trace_spec == 1].shape, \n",
    "                                                        trace_spec[trace_spec > 1].shape))\n",
    "trace_spec = trace_spec[trace_spec > 1].index.values\n",
    "\n",
    "trace_row_df = similar_df[(similar_df['Nombre'].isin(trace_spec))]"
   ]
  },
  {
   "cell_type": "code",
   "execution_count": 9,
   "metadata": {
    "collapsed": true
   },
   "outputs": [],
   "source": [
    "def valid_dates(group, tids):\n",
    "    # check dates\n",
    "    last = None\n",
    "    for tid in tids:\n",
    "        if last is None:\n",
    "            last = group[(group['CodigoExterno']==tid)][['FechasFechaPublicacion', 'FechasFechaCierre']].values[0]\n",
    "        else:\n",
    "            # check date\n",
    "            now = group[(group['CodigoExterno']==tid)][['FechasFechaPublicacion', 'FechasFechaCierre']].values[0]\n",
    "            if pd.to_datetime(now[0]) < pd.to_datetime(last[1]):\n",
    "                # the publication date is smaller than the close date of the last tender\n",
    "                return False\n",
    "            last = now\n",
    "    return True\n",
    "\n",
    "def valid_tprods(group, tids):\n",
    "    prod_dict = dict()\n",
    "    for tid in tids:\n",
    "        tprods = tprod_df[(tprod_df['CodigoExterno']==tid)]['CodigoProducto'].values\n",
    "        tprods.sort()\n",
    "        prod_dict[tid] = tprods\n",
    "    # zip them\n",
    "    for item_tuple in zip(*list(prod_dict.values())):\n",
    "        if len(set(item_tuple)) > 1:\n",
    "            return False\n",
    "    return True"
   ]
  },
  {
   "cell_type": "code",
   "execution_count": 10,
   "metadata": {
    "collapsed": false
   },
   "outputs": [],
   "source": [
    "non_comply = list()\n",
    "for name, group in trace_row_df.groupby('Nombre'):\n",
    "    tids = group['CodigoExterno'].values\n",
    "    # check dates\n",
    "    if not valid_dates(group, tids):\n",
    "        non_comply.append(tids)\n",
    "        continue\n",
    "    # check products\n",
    "    if not valid_tprods(group, tids):\n",
    "        non_comply.append(tids)\n",
    "        continue\n",
    "\n",
    "non_comply = fcts.reduce(lambda x, y: np.concatenate((x, y)), non_comply)\n",
    "trace_row_df = trace_row_df[~(trace_row_df['CodigoExterno'].isin(non_comply))]"
   ]
  },
  {
   "cell_type": "markdown",
   "metadata": {},
   "source": [
    "### Distribution across regions"
   ]
  },
  {
   "cell_type": "code",
   "execution_count": 11,
   "metadata": {
    "collapsed": false
   },
   "outputs": [
    {
     "data": {
      "image/png": "[encoded data removed]",
      "text/plain": [
       "<matplotlib.figure.Figure at 0x7ffb43f11320>"
      ]
     },
     "metadata": {},
     "output_type": "display_data"
    }
   ],
   "source": [
    "grouped_before = tender_df[(tender_df['CodigoExterno'].isin(deserted['CodigoExterno']))].groupby('CompradorRegionUnidad').size()\n",
    "grouped_after = tender_df[(tender_df['CodigoExterno'].isin(trace_row_df['CodigoExterno']))].groupby('CompradorRegionUnidad').size()\n",
    "\n",
    "grouped_before = grouped_before.to_frame().reset_index()\n",
    "grouped_after = grouped_after.to_frame().reset_index()\n",
    "grouped = grouped_before.merge(grouped_after, on='CompradorRegionUnidad')\n",
    "grouped.columns = ['CompradorRegionUnidad', 'Trace length: 1', 'Trace length: > 1']\n",
    "grouped['perc'] = grouped['Trace length: > 1'] / grouped['Trace length: 1'] * 100\n",
    "grouped.sort_values('perc', inplace=True, ascending=True)\n",
    "\n",
    "fig, axes = plt.subplots(figsize=(15, 8), ncols=2)\n",
    "grouped[['CompradorRegionUnidad', 'Trace length: 1', 'Trace length: > 1']].plot(kind='barh', ax=axes[0]);\n",
    "axes[0].set_yticklabels(grouped['CompradorRegionUnidad'])\n",
    "axes[0].set_xlabel('Frequency')\n",
    "# axes[0].set_title('Distribution across regions with respect to tender trace length of deserted tenders', fontsize=20);\n",
    "\n",
    "grouped[['CompradorRegionUnidad', 'perc']].plot(kind='barh', ax=axes[1], legend=None);\n",
    "axes[1].set_yticklabels([])\n",
    "axes[1].set_xlabel('Percentage');"
   ]
  },
  {
   "cell_type": "markdown",
   "metadata": {},
   "source": [
    "We can see that Region Biobio tend to be more persistent relatively as more of the deserted tenders in this region are republished. Next we would like to know how likely is a deserted tender going to revive."
   ]
  },
  {
   "cell_type": "markdown",
   "metadata": {},
   "source": [
    "### General observations"
   ]
  },
  {
   "cell_type": "code",
   "execution_count": 12,
   "metadata": {
    "collapsed": false
   },
   "outputs": [
    {
     "name": "stdout",
     "output_type": "stream",
     "text": [
      "Revival rate: 0.52% (12/23)\n"
     ]
    }
   ],
   "source": [
    "grouped_state = trace_row_df.groupby('Nombre').apply(lambda x: 'Adjudicada' in x['Estado'].values)\n",
    "revival_rate = (grouped_state.sum() / grouped_state.shape)[0]\n",
    "print('Revival rate: {:.2f}% ({}/{})'.format(revival_rate, grouped_state.sum(), grouped_state.shape[0]))"
   ]
  },
  {
   "cell_type": "markdown",
   "metadata": {},
   "source": [
    "This is quite incredible, 67% of the ones that republished the same tender gets sold."
   ]
  },
  {
   "cell_type": "markdown",
   "metadata": {},
   "source": [
    "### Distribution in terms of product category"
   ]
  },
  {
   "cell_type": "code",
   "execution_count": 13,
   "metadata": {
    "collapsed": false
   },
   "outputs": [
    {
     "data": {
      "text/html": [
       "<div>\n",
       "<style>\n",
       "    .dataframe thead tr:only-child th {\n",
       "        text-align: right;\n",
       "    }\n",
       "\n",
       "    .dataframe thead th {\n",
       "        text-align: left;\n",
       "    }\n",
       "\n",
       "    .dataframe tbody tr th {\n",
       "        vertical-align: top;\n",
       "    }\n",
       "</style>\n",
       "<table border=\"1\" class=\"dataframe\">\n",
       "  <thead>\n",
       "    <tr style=\"text-align: right;\">\n",
       "      <th></th>\n",
       "      <th>Categoria</th>\n",
       "      <th>count</th>\n",
       "    </tr>\n",
       "  </thead>\n",
       "  <tbody>\n",
       "    <tr>\n",
       "      <th>0</th>\n",
       "      <td>Equipamiento y suministros medicos / Productos de rehabilitacion terapia ocupacional y fisica / Equipo y dispositivos para ejercicios de rehabilitacion</td>\n",
       "      <td>21</td>\n",
       "    </tr>\n",
       "    <tr>\n",
       "      <th>1</th>\n",
       "      <td>Organizaciones y consultorias politicas demograficas economicas sociales y de administracion publica / Desarrollo social demografico y comunitario / Empleo</td>\n",
       "      <td>16</td>\n",
       "    </tr>\n",
       "    <tr>\n",
       "      <th>2</th>\n",
       "      <td>Servicios financieros pensiones y seguros / Seguros y jubilacion / Seguros para estructuras propiedades y bienes</td>\n",
       "      <td>14</td>\n",
       "    </tr>\n",
       "    <tr>\n",
       "      <th>3</th>\n",
       "      <td>Equipamiento y suministros medicos / Productos para el cuidado de heridas / Vendas vendajes y productos relacionados</td>\n",
       "      <td>14</td>\n",
       "    </tr>\n",
       "    <tr>\n",
       "      <th>4</th>\n",
       "      <td>Servicios de transporte almacenaje y correo / Transporte de pasajeros / Transporte de pasajeros por carretera</td>\n",
       "      <td>12</td>\n",
       "    </tr>\n",
       "  </tbody>\n",
       "</table>\n",
       "</div>"
      ],
      "text/plain": [
       "                                                                                                                                                     Categoria  \\\n",
       "0      Equipamiento y suministros medicos / Productos de rehabilitacion terapia ocupacional y fisica / Equipo y dispositivos para ejercicios de rehabilitacion   \n",
       "1  Organizaciones y consultorias politicas demograficas economicas sociales y de administracion publica / Desarrollo social demografico y comunitario / Empleo   \n",
       "2                                             Servicios financieros pensiones y seguros / Seguros y jubilacion / Seguros para estructuras propiedades y bienes   \n",
       "3                                         Equipamiento y suministros medicos / Productos para el cuidado de heridas / Vendas vendajes y productos relacionados   \n",
       "4                                                Servicios de transporte almacenaje y correo / Transporte de pasajeros / Transporte de pasajeros por carretera   \n",
       "\n",
       "   count  \n",
       "0     21  \n",
       "1     16  \n",
       "2     14  \n",
       "3     14  \n",
       "4     12  "
      ]
     },
     "execution_count": 13,
     "metadata": {},
     "output_type": "execute_result"
    }
   ],
   "source": [
    "grouped_cat = tprod_df[\n",
    "    (tprod_df['CodigoExterno'].isin(trace_row_df['CodigoExterno'].values))\n",
    "].groupby('Categoria').size().to_frame().reset_index()\n",
    "\n",
    "grouped_cat.columns = ['Categoria', 'count']\n",
    "grouped_cat.sort_values('count', inplace=True, ascending=False)\n",
    "grouped_cat.reset_index(drop=True, inplace=True)\n",
    "\n",
    "grouped_cat.head()"
   ]
  },
  {
   "cell_type": "markdown",
   "metadata": {},
   "source": [
    "## Divide to two classes"
   ]
  },
  {
   "cell_type": "code",
   "execution_count": 14,
   "metadata": {
    "collapsed": false
   },
   "outputs": [],
   "source": [
    "trace_row_df.to_csv('./traceRows.csv')"
   ]
  },
  {
   "cell_type": "code",
   "execution_count": 15,
   "metadata": {
    "collapsed": false
   },
   "outputs": [
    {
     "data": {
      "text/html": [
       "<div>\n",
       "<style>\n",
       "    .dataframe thead tr:only-child th {\n",
       "        text-align: right;\n",
       "    }\n",
       "\n",
       "    .dataframe thead th {\n",
       "        text-align: left;\n",
       "    }\n",
       "\n",
       "    .dataframe tbody tr th {\n",
       "        vertical-align: top;\n",
       "    }\n",
       "</style>\n",
       "<table border=\"1\" class=\"dataframe\">\n",
       "  <thead>\n",
       "    <tr style=\"text-align: right;\">\n",
       "      <th></th>\n",
       "      <th>Estado</th>\n",
       "      <th>FechasFechaPublicacion</th>\n",
       "      <th>FechasFechaCierre</th>\n",
       "      <th>Nombre</th>\n",
       "      <th>CompradorNombreOrganismo</th>\n",
       "      <th>CompradorCodigoOrganismo</th>\n",
       "      <th>AdjudicacionUrlActa</th>\n",
       "      <th>CodigoExterno</th>\n",
       "      <th>class_sold</th>\n",
       "    </tr>\n",
       "  </thead>\n",
       "  <tbody>\n",
       "    <tr>\n",
       "      <th>0</th>\n",
       "      <td>Desierta o art 3 o 9 Ley 19 886</td>\n",
       "      <td>2016-11-02T15:18:40.123</td>\n",
       "      <td>2016-11-09T14:00:00</td>\n",
       "      <td>CONTRATO SUMNISTRO ORNAMENTACION</td>\n",
       "      <td>Municipalidad de Los Angeles</td>\n",
       "      <td>87187</td>\n",
       "      <td>http://www.mercadopublico.cl/Procurement/Modules/RFB/StepsProcessAward/PreviewAwardAct.aspx?qs=TD13+O8l6MYqg6Qfk+fFMtgwgtMm+D6zef4LnOpN74s=</td>\n",
       "      <td>2408-1194-L116</td>\n",
       "      <td>0</td>\n",
       "    </tr>\n",
       "    <tr>\n",
       "      <th>1</th>\n",
       "      <td>Desierta o art 3 o 9 Ley 19 886</td>\n",
       "      <td>2016-11-15T16:47:47.39</td>\n",
       "      <td>2016-11-21T15:00:00</td>\n",
       "      <td>CONTRATO SUMNISTRO ORNAMENTACION</td>\n",
       "      <td>Municipalidad de Los Angeles</td>\n",
       "      <td>87187</td>\n",
       "      <td>http://www.mercadopublico.cl/Procurement/Modules/RFB/StepsProcessAward/PreviewAwardAct.aspx?qs=qlv6n6adCjee6sre51Bm+s+C1XYWMNiulk+jnJqWnL4=</td>\n",
       "      <td>2408-1323-L116</td>\n",
       "      <td>0</td>\n",
       "    </tr>\n",
       "    <tr>\n",
       "      <th>2</th>\n",
       "      <td>Desierta o art 3 o 9 Ley 19 886</td>\n",
       "      <td>2016-11-02T15:23:50.373</td>\n",
       "      <td>2016-11-10T09:00:00</td>\n",
       "      <td>Examen Ocupacional a Personal del Aeropuerto Diego Aracena</td>\n",
       "      <td>Direccion General de Aeronautica Civil</td>\n",
       "      <td>7202</td>\n",
       "      <td>http://www.mercadopublico.cl/Procurement/Modules/RFB/StepsProcessAward/PreviewAwardAct.aspx?qs=HJfcGaPNPX9fLUtNwNIuJVnzatvdmhHFwZl9efRvz+U=</td>\n",
       "      <td>1989-99-L116</td>\n",
       "      <td>0</td>\n",
       "    </tr>\n",
       "    <tr>\n",
       "      <th>3</th>\n",
       "      <td>Desierta o art 3 o 9 Ley 19 886</td>\n",
       "      <td>2016-11-23T16:37:08.103</td>\n",
       "      <td>2016-12-01T09:00:00</td>\n",
       "      <td>Examen Ocupacional a Personal del Aeropuerto Diego Aracena</td>\n",
       "      <td>Direccion General de Aeronautica Civil</td>\n",
       "      <td>7202</td>\n",
       "      <td>http://www.mercadopublico.cl/Procurement/Modules/RFB/StepsProcessAward/PreviewAwardAct.aspx?qs=Qn8nkbm19kyaC/lMqhdo9XBRJBMJ0G6q2k62Rth9e/I=</td>\n",
       "      <td>1989-104-CO16</td>\n",
       "      <td>0</td>\n",
       "    </tr>\n",
       "    <tr>\n",
       "      <th>8</th>\n",
       "      <td>Desierta o art 3 o 9 Ley 19 886</td>\n",
       "      <td>2016-11-02T19:58:08.873</td>\n",
       "      <td>2016-11-08T17:00:00</td>\n",
       "      <td>ADQUISICION DE DISPENSADOR Y SUMINISTRO DE BOTELLON CFLL</td>\n",
       "      <td>Gobernacion Provincial de Los Andes</td>\n",
       "      <td>7009</td>\n",
       "      <td>http://www.mercadopublico.cl/Procurement/Modules/RFB/StepsProcessAward/PreviewAwardAct.aspx?qs=hioOX1Mlx7fxgeVjF6BZc46O8zxi548ccue8eb6lCns=</td>\n",
       "      <td>92-33-L116</td>\n",
       "      <td>0</td>\n",
       "    </tr>\n",
       "    <tr>\n",
       "      <th>9</th>\n",
       "      <td>Desierta o art 3 o 9 Ley 19 886</td>\n",
       "      <td>2016-11-15T10:36:37.26</td>\n",
       "      <td>2016-11-21T15:30:00</td>\n",
       "      <td>ADQUISICION DE DISPENSADOR Y SUMINISTRO DE BOTELLON CFLL</td>\n",
       "      <td>Gobernacion Provincial de Los Andes</td>\n",
       "      <td>7009</td>\n",
       "      <td>http://www.mercadopublico.cl/Procurement/Modules/RFB/StepsProcessAward/PreviewAwardAct.aspx?qs=PDH/SqeJuPRs3TGfhSvm2fUF0tXjLuN/daZs8ZbDxjY=</td>\n",
       "      <td>92-35-L116</td>\n",
       "      <td>0</td>\n",
       "    </tr>\n",
       "    <tr>\n",
       "      <th>14</th>\n",
       "      <td>Desierta o art 3 o 9 Ley 19 886</td>\n",
       "      <td>2016-11-04T16:08:26.097</td>\n",
       "      <td>2016-11-10T09:00:00</td>\n",
       "      <td>ARTICULOS PARA CAPITANIA DE PUERTO DE HUASCO</td>\n",
       "      <td>ARMADA DE CHILE</td>\n",
       "      <td>111875</td>\n",
       "      <td>http://www.mercadopublico.cl/Procurement/Modules/RFB/StepsProcessAward/PreviewAwardAct.aspx?qs=4o18JBafabKg+RiWkEXU1sZCpPLRx3sDitedGz/CbWM=</td>\n",
       "      <td>3175-40-L116</td>\n",
       "      <td>0</td>\n",
       "    </tr>\n",
       "    <tr>\n",
       "      <th>15</th>\n",
       "      <td>Desierta o art 3 o 9 Ley 19 886</td>\n",
       "      <td>2016-11-15T12:34:49.143</td>\n",
       "      <td>2016-11-21T15:01:00</td>\n",
       "      <td>ARTICULOS PARA CAPITANIA DE PUERTO DE HUASCO</td>\n",
       "      <td>ARMADA DE CHILE</td>\n",
       "      <td>111875</td>\n",
       "      <td>http://www.mercadopublico.cl/Procurement/Modules/RFB/StepsProcessAward/PreviewAwardAct.aspx?qs=vTwOruDLS4IxMBFYrTLWkQqdTwcUCEH3sLYSB4QgHbM=</td>\n",
       "      <td>3175-43-L116</td>\n",
       "      <td>0</td>\n",
       "    </tr>\n",
       "    <tr>\n",
       "      <th>20</th>\n",
       "      <td>Desierta o art 3 o 9 Ley 19 886</td>\n",
       "      <td>2016-11-08T11:01:07.777</td>\n",
       "      <td>2016-11-15T21:27:00</td>\n",
       "      <td>PTR N 181 BANDERAS PARA EL CESFAM</td>\n",
       "      <td>MUNICIPALIDAD DE VITACURA</td>\n",
       "      <td>98462</td>\n",
       "      <td>http://www.mercadopublico.cl/Procurement/Modules/RFB/StepsProcessAward/PreviewAwardAct.aspx?qs=aOj1bgz3oWLX68ktbDVRV97TkN6jV1sU9vfKTf6b05I=</td>\n",
       "      <td>2669-174-L116</td>\n",
       "      <td>0</td>\n",
       "    </tr>\n",
       "    <tr>\n",
       "      <th>21</th>\n",
       "      <td>Desierta o art 3 o 9 Ley 19 886</td>\n",
       "      <td>2016-11-17T15:18:42.177</td>\n",
       "      <td>2016-11-23T17:12:00</td>\n",
       "      <td>PTR N 181 BANDERAS PARA EL CESFAM</td>\n",
       "      <td>MUNICIPALIDAD DE VITACURA</td>\n",
       "      <td>98462</td>\n",
       "      <td>http://www.mercadopublico.cl/Procurement/Modules/RFB/StepsProcessAward/PreviewAwardAct.aspx?qs=Orp7aoskG+Ge3N9A/i7lS9uamf9tcJo9A4HzwCrt+ik=</td>\n",
       "      <td>2669-183-L116</td>\n",
       "      <td>0</td>\n",
       "    </tr>\n",
       "    <tr>\n",
       "      <th>22</th>\n",
       "      <td>Desierta o art 3 o 9 Ley 19 886</td>\n",
       "      <td>2016-11-08T17:20:59.397</td>\n",
       "      <td>2016-11-18T10:00:00</td>\n",
       "      <td>REPOSICION CUBIERTA LABORATORIO REG DE VIALIDAD</td>\n",
       "      <td>MOP Direccion de Vialidad</td>\n",
       "      <td>7248</td>\n",
       "      <td>http://www.mercadopublico.cl/Procurement/Modules/RFB/StepsProcessAward/PreviewAwardAct.aspx?qs=il1mk9F454/a9401QjVO5d2xJsVzhL40yhR3K9FFIIU=</td>\n",
       "      <td>1003-65-LE16</td>\n",
       "      <td>0</td>\n",
       "    </tr>\n",
       "    <tr>\n",
       "      <th>23</th>\n",
       "      <td>Desierta o art 3 o 9 Ley 19 886</td>\n",
       "      <td>2016-11-28T16:51:31.073</td>\n",
       "      <td>2016-12-05T15:32:00</td>\n",
       "      <td>REPOSICION CUBIERTA LABORATORIO REG DE VIALIDAD</td>\n",
       "      <td>MOP Direccion de Vialidad</td>\n",
       "      <td>7248</td>\n",
       "      <td>http://www.mercadopublico.cl/Procurement/Modules/RFB/StepsProcessAward/PreviewAwardAct.aspx?qs=wqGFS8P09TmCJYgMdlNioLkDIQZll+dyq1kHqDBxWrs=</td>\n",
       "      <td>1003-68-LE16</td>\n",
       "      <td>0</td>\n",
       "    </tr>\n",
       "    <tr>\n",
       "      <th>24</th>\n",
       "      <td>Desierta o art 3 o 9 Ley 19 886</td>\n",
       "      <td>2016-11-09T11:58:45.467</td>\n",
       "      <td>2016-11-16T11:00:00</td>\n",
       "      <td>Materiales e insumos para campamento 061 062</td>\n",
       "      <td>Ejercito de Chile</td>\n",
       "      <td>111870</td>\n",
       "      <td>http://www.mercadopublico.cl/Procurement/Modules/RFB/StepsProcessAward/PreviewAwardAct.aspx?qs=5yX0XHERnDTuvnLB7Z0fJjgrApDtdAWXzBVPp8ITRII=</td>\n",
       "      <td>3540-281-L116</td>\n",
       "      <td>0</td>\n",
       "    </tr>\n",
       "    <tr>\n",
       "      <th>25</th>\n",
       "      <td>Desierta o art 3 o 9 Ley 19 886</td>\n",
       "      <td>2016-11-18T10:43:31.45</td>\n",
       "      <td>2016-11-24T11:30:00</td>\n",
       "      <td>Materiales e insumos para campamento 061 062</td>\n",
       "      <td>Ejercito de Chile</td>\n",
       "      <td>111870</td>\n",
       "      <td>http://www.mercadopublico.cl/Procurement/Modules/RFB/StepsProcessAward/PreviewAwardAct.aspx?qs=BYOOhE9AxtsAsUrmrmZVZ2YYCU0RnspORPmxaMWUbzM=</td>\n",
       "      <td>3540-283-L116</td>\n",
       "      <td>0</td>\n",
       "    </tr>\n",
       "    <tr>\n",
       "      <th>29</th>\n",
       "      <td>Desierta o art 3 o 9 Ley 19 886</td>\n",
       "      <td>2016-11-11T12:16:31.057</td>\n",
       "      <td>2016-11-17T12:00:00</td>\n",
       "      <td>INSUMOS MEDICOS</td>\n",
       "      <td>ILUSTRE MUNICIPALIDAD DE RANCAGUA</td>\n",
       "      <td>87167</td>\n",
       "      <td>http://www.mercadopublico.cl/Procurement/Modules/RFB/StepsProcessAward/PreviewAwardAct.aspx?qs=CIakYngKFEH6I08g+C0VI9XKd2qzynv/AO98FM/QtnY=</td>\n",
       "      <td>2401-463-L116</td>\n",
       "      <td>0</td>\n",
       "    </tr>\n",
       "    <tr>\n",
       "      <th>30</th>\n",
       "      <td>Desierta o art 3 o 9 Ley 19 886</td>\n",
       "      <td>2016-11-21T13:19:42.29</td>\n",
       "      <td>2016-11-28T15:00:00</td>\n",
       "      <td>INSUMOS MEDICOS</td>\n",
       "      <td>ILUSTRE MUNICIPALIDAD DE RANCAGUA</td>\n",
       "      <td>87167</td>\n",
       "      <td>http://www.mercadopublico.cl/Procurement/Modules/RFB/StepsProcessAward/PreviewAwardAct.aspx?qs=iEieXBBFDKCtfes5Xx45QEdKquvG/wnPLxqCrVtNWOk=</td>\n",
       "      <td>2401-472-L116</td>\n",
       "      <td>0</td>\n",
       "    </tr>\n",
       "    <tr>\n",
       "      <th>31</th>\n",
       "      <td>Desierta o art 3 o 9 Ley 19 886</td>\n",
       "      <td>2016-11-11T14:00:05.137</td>\n",
       "      <td>2016-11-17T18:00:00</td>\n",
       "      <td>ADQUISICION DE PASAJES TERRESTRES BASE IM TUMBES</td>\n",
       "      <td>ARMADA DE CHILE</td>\n",
       "      <td>111875</td>\n",
       "      <td>http://www.mercadopublico.cl/Procurement/Modules/RFB/StepsProcessAward/PreviewAwardAct.aspx?qs=yd1HW5LBm2jbNQALtv9PWox/fuWl12uh+2Bq9gJmY40=</td>\n",
       "      <td>763003-26-L116</td>\n",
       "      <td>0</td>\n",
       "    </tr>\n",
       "    <tr>\n",
       "      <th>32</th>\n",
       "      <td>Desierta o art 3 o 9 Ley 19 886</td>\n",
       "      <td>2016-11-22T15:02:00</td>\n",
       "      <td>2016-11-29T17:00:00</td>\n",
       "      <td>ADQUISICION DE PASAJES TERRESTRES BASE IM TUMBES</td>\n",
       "      <td>ARMADA DE CHILE</td>\n",
       "      <td>111875</td>\n",
       "      <td>http://www.mercadopublico.cl/Procurement/Modules/RFB/StepsProcessAward/PreviewAwardAct.aspx?qs=Qo5uKNfoszZpKEIzRTttkF9LaoULnJV4BGlWPKECdZM=</td>\n",
       "      <td>763003-29-E216</td>\n",
       "      <td>0</td>\n",
       "    </tr>\n",
       "    <tr>\n",
       "      <th>41</th>\n",
       "      <td>Desierta o art 3 o 9 Ley 19 886</td>\n",
       "      <td>2016-11-16T12:15:54.597</td>\n",
       "      <td>2016-11-22T14:04:00</td>\n",
       "      <td>compra de alimentos y tortas para licenciatura escuela tranapuente</td>\n",
       "      <td>Municipalidad de Carahue</td>\n",
       "      <td>115186</td>\n",
       "      <td>http://www.mercadopublico.cl/Procurement/Modules/RFB/StepsProcessAward/PreviewAwardAct.aspx?qs=KDRySfgU+fLYlkZ+3UBN/2AC7AxLZL6IiejgBvcEvNI=</td>\n",
       "      <td>3586-354-L116</td>\n",
       "      <td>0</td>\n",
       "    </tr>\n",
       "    <tr>\n",
       "      <th>42</th>\n",
       "      <td>Desierta o art 3 o 9 Ley 19 886</td>\n",
       "      <td>2016-11-23T10:32:32.477</td>\n",
       "      <td>2016-11-29T12:31:00</td>\n",
       "      <td>compra de alimentos y tortas para licenciatura escuela tranapuente</td>\n",
       "      <td>Municipalidad de Carahue</td>\n",
       "      <td>115186</td>\n",
       "      <td>http://www.mercadopublico.cl/Procurement/Modules/RFB/StepsProcessAward/PreviewAwardAct.aspx?qs=5HFf6Sj0Gr+CbYgJnRzMrSxVSG8PA8sg0B+eWVtjhXE=</td>\n",
       "      <td>3586-372-L116</td>\n",
       "      <td>0</td>\n",
       "    </tr>\n",
       "    <tr>\n",
       "      <th>45</th>\n",
       "      <td>Desierta o art 3 o 9 Ley 19 886</td>\n",
       "      <td>2016-11-22T10:28:32.543</td>\n",
       "      <td>2016-11-28T15:00:00</td>\n",
       "      <td>TRAJES DE BANO Y TOALLAS</td>\n",
       "      <td>ILUSTRE MUNICIPALIDAD DE LA GRANJA</td>\n",
       "      <td>112097</td>\n",
       "      <td>http://www.mercadopublico.cl/Procurement/Modules/RFB/StepsProcessAward/PreviewAwardAct.aspx?qs=gosYt7OP+epNU9I6BuTKpL+t6PoAKe0QsETxNlZDofk=</td>\n",
       "      <td>2961-1029-L116</td>\n",
       "      <td>0</td>\n",
       "    </tr>\n",
       "    <tr>\n",
       "      <th>46</th>\n",
       "      <td>Desierta o art 3 o 9 Ley 19 886</td>\n",
       "      <td>2016-11-30T13:14:33.77</td>\n",
       "      <td>2016-12-07T11:00:00</td>\n",
       "      <td>TRAJES DE BANO Y TOALLAS</td>\n",
       "      <td>ILUSTRE MUNICIPALIDAD DE LA GRANJA</td>\n",
       "      <td>112097</td>\n",
       "      <td>http://www.mercadopublico.cl/Procurement/Modules/RFB/StepsProcessAward/PreviewAwardAct.aspx?qs=NHz7gR/r0FiZ70KD2zvxKFeLVRD3QKD25C+G6rILcpg=</td>\n",
       "      <td>2961-1067-L116</td>\n",
       "      <td>0</td>\n",
       "    </tr>\n",
       "  </tbody>\n",
       "</table>\n",
       "</div>"
      ],
      "text/plain": [
       "                             Estado   FechasFechaPublicacion  \\\n",
       "0   Desierta o art 3 o 9 Ley 19 886  2016-11-02T15:18:40.123   \n",
       "1   Desierta o art 3 o 9 Ley 19 886   2016-11-15T16:47:47.39   \n",
       "2   Desierta o art 3 o 9 Ley 19 886  2016-11-02T15:23:50.373   \n",
       "3   Desierta o art 3 o 9 Ley 19 886  2016-11-23T16:37:08.103   \n",
       "8   Desierta o art 3 o 9 Ley 19 886  2016-11-02T19:58:08.873   \n",
       "9   Desierta o art 3 o 9 Ley 19 886   2016-11-15T10:36:37.26   \n",
       "14  Desierta o art 3 o 9 Ley 19 886  2016-11-04T16:08:26.097   \n",
       "15  Desierta o art 3 o 9 Ley 19 886  2016-11-15T12:34:49.143   \n",
       "20  Desierta o art 3 o 9 Ley 19 886  2016-11-08T11:01:07.777   \n",
       "21  Desierta o art 3 o 9 Ley 19 886  2016-11-17T15:18:42.177   \n",
       "22  Desierta o art 3 o 9 Ley 19 886  2016-11-08T17:20:59.397   \n",
       "23  Desierta o art 3 o 9 Ley 19 886  2016-11-28T16:51:31.073   \n",
       "24  Desierta o art 3 o 9 Ley 19 886  2016-11-09T11:58:45.467   \n",
       "25  Desierta o art 3 o 9 Ley 19 886   2016-11-18T10:43:31.45   \n",
       "29  Desierta o art 3 o 9 Ley 19 886  2016-11-11T12:16:31.057   \n",
       "30  Desierta o art 3 o 9 Ley 19 886   2016-11-21T13:19:42.29   \n",
       "31  Desierta o art 3 o 9 Ley 19 886  2016-11-11T14:00:05.137   \n",
       "32  Desierta o art 3 o 9 Ley 19 886      2016-11-22T15:02:00   \n",
       "41  Desierta o art 3 o 9 Ley 19 886  2016-11-16T12:15:54.597   \n",
       "42  Desierta o art 3 o 9 Ley 19 886  2016-11-23T10:32:32.477   \n",
       "45  Desierta o art 3 o 9 Ley 19 886  2016-11-22T10:28:32.543   \n",
       "46  Desierta o art 3 o 9 Ley 19 886   2016-11-30T13:14:33.77   \n",
       "\n",
       "      FechasFechaCierre  \\\n",
       "0   2016-11-09T14:00:00   \n",
       "1   2016-11-21T15:00:00   \n",
       "2   2016-11-10T09:00:00   \n",
       "3   2016-12-01T09:00:00   \n",
       "8   2016-11-08T17:00:00   \n",
       "9   2016-11-21T15:30:00   \n",
       "14  2016-11-10T09:00:00   \n",
       "15  2016-11-21T15:01:00   \n",
       "20  2016-11-15T21:27:00   \n",
       "21  2016-11-23T17:12:00   \n",
       "22  2016-11-18T10:00:00   \n",
       "23  2016-12-05T15:32:00   \n",
       "24  2016-11-16T11:00:00   \n",
       "25  2016-11-24T11:30:00   \n",
       "29  2016-11-17T12:00:00   \n",
       "30  2016-11-28T15:00:00   \n",
       "31  2016-11-17T18:00:00   \n",
       "32  2016-11-29T17:00:00   \n",
       "41  2016-11-22T14:04:00   \n",
       "42  2016-11-29T12:31:00   \n",
       "45  2016-11-28T15:00:00   \n",
       "46  2016-12-07T11:00:00   \n",
       "\n",
       "                                                                Nombre  \\\n",
       "0                                     CONTRATO SUMNISTRO ORNAMENTACION   \n",
       "1                                     CONTRATO SUMNISTRO ORNAMENTACION   \n",
       "2           Examen Ocupacional a Personal del Aeropuerto Diego Aracena   \n",
       "3           Examen Ocupacional a Personal del Aeropuerto Diego Aracena   \n",
       "8             ADQUISICION DE DISPENSADOR Y SUMINISTRO DE BOTELLON CFLL   \n",
       "9             ADQUISICION DE DISPENSADOR Y SUMINISTRO DE BOTELLON CFLL   \n",
       "14                        ARTICULOS PARA CAPITANIA DE PUERTO DE HUASCO   \n",
       "15                        ARTICULOS PARA CAPITANIA DE PUERTO DE HUASCO   \n",
       "20                                   PTR N 181 BANDERAS PARA EL CESFAM   \n",
       "21                                   PTR N 181 BANDERAS PARA EL CESFAM   \n",
       "22                     REPOSICION CUBIERTA LABORATORIO REG DE VIALIDAD   \n",
       "23                     REPOSICION CUBIERTA LABORATORIO REG DE VIALIDAD   \n",
       "24                        Materiales e insumos para campamento 061 062   \n",
       "25                        Materiales e insumos para campamento 061 062   \n",
       "29                                                     INSUMOS MEDICOS   \n",
       "30                                                     INSUMOS MEDICOS   \n",
       "31                    ADQUISICION DE PASAJES TERRESTRES BASE IM TUMBES   \n",
       "32                    ADQUISICION DE PASAJES TERRESTRES BASE IM TUMBES   \n",
       "41  compra de alimentos y tortas para licenciatura escuela tranapuente   \n",
       "42  compra de alimentos y tortas para licenciatura escuela tranapuente   \n",
       "45                                            TRAJES DE BANO Y TOALLAS   \n",
       "46                                            TRAJES DE BANO Y TOALLAS   \n",
       "\n",
       "                  CompradorNombreOrganismo  CompradorCodigoOrganismo  \\\n",
       "0             Municipalidad de Los Angeles                     87187   \n",
       "1             Municipalidad de Los Angeles                     87187   \n",
       "2   Direccion General de Aeronautica Civil                      7202   \n",
       "3   Direccion General de Aeronautica Civil                      7202   \n",
       "8      Gobernacion Provincial de Los Andes                      7009   \n",
       "9      Gobernacion Provincial de Los Andes                      7009   \n",
       "14                         ARMADA DE CHILE                    111875   \n",
       "15                         ARMADA DE CHILE                    111875   \n",
       "20               MUNICIPALIDAD DE VITACURA                     98462   \n",
       "21               MUNICIPALIDAD DE VITACURA                     98462   \n",
       "22               MOP Direccion de Vialidad                      7248   \n",
       "23               MOP Direccion de Vialidad                      7248   \n",
       "24                       Ejercito de Chile                    111870   \n",
       "25                       Ejercito de Chile                    111870   \n",
       "29       ILUSTRE MUNICIPALIDAD DE RANCAGUA                     87167   \n",
       "30       ILUSTRE MUNICIPALIDAD DE RANCAGUA                     87167   \n",
       "31                         ARMADA DE CHILE                    111875   \n",
       "32                         ARMADA DE CHILE                    111875   \n",
       "41                Municipalidad de Carahue                    115186   \n",
       "42                Municipalidad de Carahue                    115186   \n",
       "45      ILUSTRE MUNICIPALIDAD DE LA GRANJA                    112097   \n",
       "46      ILUSTRE MUNICIPALIDAD DE LA GRANJA                    112097   \n",
       "\n",
       "                                                                                                                            AdjudicacionUrlActa  \\\n",
       "0   http://www.mercadopublico.cl/Procurement/Modules/RFB/StepsProcessAward/PreviewAwardAct.aspx?qs=TD13+O8l6MYqg6Qfk+fFMtgwgtMm+D6zef4LnOpN74s=   \n",
       "1   http://www.mercadopublico.cl/Procurement/Modules/RFB/StepsProcessAward/PreviewAwardAct.aspx?qs=qlv6n6adCjee6sre51Bm+s+C1XYWMNiulk+jnJqWnL4=   \n",
       "2   http://www.mercadopublico.cl/Procurement/Modules/RFB/StepsProcessAward/PreviewAwardAct.aspx?qs=HJfcGaPNPX9fLUtNwNIuJVnzatvdmhHFwZl9efRvz+U=   \n",
       "3   http://www.mercadopublico.cl/Procurement/Modules/RFB/StepsProcessAward/PreviewAwardAct.aspx?qs=Qn8nkbm19kyaC/lMqhdo9XBRJBMJ0G6q2k62Rth9e/I=   \n",
       "8   http://www.mercadopublico.cl/Procurement/Modules/RFB/StepsProcessAward/PreviewAwardAct.aspx?qs=hioOX1Mlx7fxgeVjF6BZc46O8zxi548ccue8eb6lCns=   \n",
       "9   http://www.mercadopublico.cl/Procurement/Modules/RFB/StepsProcessAward/PreviewAwardAct.aspx?qs=PDH/SqeJuPRs3TGfhSvm2fUF0tXjLuN/daZs8ZbDxjY=   \n",
       "14  http://www.mercadopublico.cl/Procurement/Modules/RFB/StepsProcessAward/PreviewAwardAct.aspx?qs=4o18JBafabKg+RiWkEXU1sZCpPLRx3sDitedGz/CbWM=   \n",
       "15  http://www.mercadopublico.cl/Procurement/Modules/RFB/StepsProcessAward/PreviewAwardAct.aspx?qs=vTwOruDLS4IxMBFYrTLWkQqdTwcUCEH3sLYSB4QgHbM=   \n",
       "20  http://www.mercadopublico.cl/Procurement/Modules/RFB/StepsProcessAward/PreviewAwardAct.aspx?qs=aOj1bgz3oWLX68ktbDVRV97TkN6jV1sU9vfKTf6b05I=   \n",
       "21  http://www.mercadopublico.cl/Procurement/Modules/RFB/StepsProcessAward/PreviewAwardAct.aspx?qs=Orp7aoskG+Ge3N9A/i7lS9uamf9tcJo9A4HzwCrt+ik=   \n",
       "22  http://www.mercadopublico.cl/Procurement/Modules/RFB/StepsProcessAward/PreviewAwardAct.aspx?qs=il1mk9F454/a9401QjVO5d2xJsVzhL40yhR3K9FFIIU=   \n",
       "23  http://www.mercadopublico.cl/Procurement/Modules/RFB/StepsProcessAward/PreviewAwardAct.aspx?qs=wqGFS8P09TmCJYgMdlNioLkDIQZll+dyq1kHqDBxWrs=   \n",
       "24  http://www.mercadopublico.cl/Procurement/Modules/RFB/StepsProcessAward/PreviewAwardAct.aspx?qs=5yX0XHERnDTuvnLB7Z0fJjgrApDtdAWXzBVPp8ITRII=   \n",
       "25  http://www.mercadopublico.cl/Procurement/Modules/RFB/StepsProcessAward/PreviewAwardAct.aspx?qs=BYOOhE9AxtsAsUrmrmZVZ2YYCU0RnspORPmxaMWUbzM=   \n",
       "29  http://www.mercadopublico.cl/Procurement/Modules/RFB/StepsProcessAward/PreviewAwardAct.aspx?qs=CIakYngKFEH6I08g+C0VI9XKd2qzynv/AO98FM/QtnY=   \n",
       "30  http://www.mercadopublico.cl/Procurement/Modules/RFB/StepsProcessAward/PreviewAwardAct.aspx?qs=iEieXBBFDKCtfes5Xx45QEdKquvG/wnPLxqCrVtNWOk=   \n",
       "31  http://www.mercadopublico.cl/Procurement/Modules/RFB/StepsProcessAward/PreviewAwardAct.aspx?qs=yd1HW5LBm2jbNQALtv9PWox/fuWl12uh+2Bq9gJmY40=   \n",
       "32  http://www.mercadopublico.cl/Procurement/Modules/RFB/StepsProcessAward/PreviewAwardAct.aspx?qs=Qo5uKNfoszZpKEIzRTttkF9LaoULnJV4BGlWPKECdZM=   \n",
       "41  http://www.mercadopublico.cl/Procurement/Modules/RFB/StepsProcessAward/PreviewAwardAct.aspx?qs=KDRySfgU+fLYlkZ+3UBN/2AC7AxLZL6IiejgBvcEvNI=   \n",
       "42  http://www.mercadopublico.cl/Procurement/Modules/RFB/StepsProcessAward/PreviewAwardAct.aspx?qs=5HFf6Sj0Gr+CbYgJnRzMrSxVSG8PA8sg0B+eWVtjhXE=   \n",
       "45  http://www.mercadopublico.cl/Procurement/Modules/RFB/StepsProcessAward/PreviewAwardAct.aspx?qs=gosYt7OP+epNU9I6BuTKpL+t6PoAKe0QsETxNlZDofk=   \n",
       "46  http://www.mercadopublico.cl/Procurement/Modules/RFB/StepsProcessAward/PreviewAwardAct.aspx?qs=NHz7gR/r0FiZ70KD2zvxKFeLVRD3QKD25C+G6rILcpg=   \n",
       "\n",
       "     CodigoExterno  class_sold  \n",
       "0   2408-1194-L116           0  \n",
       "1   2408-1323-L116           0  \n",
       "2     1989-99-L116           0  \n",
       "3    1989-104-CO16           0  \n",
       "8       92-33-L116           0  \n",
       "9       92-35-L116           0  \n",
       "14    3175-40-L116           0  \n",
       "15    3175-43-L116           0  \n",
       "20   2669-174-L116           0  \n",
       "21   2669-183-L116           0  \n",
       "22    1003-65-LE16           0  \n",
       "23    1003-68-LE16           0  \n",
       "24   3540-281-L116           0  \n",
       "25   3540-283-L116           0  \n",
       "29   2401-463-L116           0  \n",
       "30   2401-472-L116           0  \n",
       "31  763003-26-L116           0  \n",
       "32  763003-29-E216           0  \n",
       "41   3586-354-L116           0  \n",
       "42   3586-372-L116           0  \n",
       "45  2961-1029-L116           0  \n",
       "46  2961-1067-L116           0  "
      ]
     },
     "execution_count": 15,
     "metadata": {},
     "output_type": "execute_result"
    }
   ],
   "source": [
    "grouped_state = trace_row_df.groupby('Nombre').apply(lambda x: int('Adjudicada' in x['Estado'].values))\n",
    "grouped_state = grouped_state.to_frame().reset_index()\n",
    "grouped_state.columns = ['Nombre', 'class_sold']\n",
    "\n",
    "merged = trace_row_df.merge(grouped_state, on='Nombre')\n",
    "merged[(merged['class_sold']==0)]"
   ]
  },
  {
   "cell_type": "markdown",
   "metadata": {},
   "source": [
    "### Revived case\n",
    "An example where a tender gets revived in a re-publication."
   ]
  },
  {
   "cell_type": "code",
   "execution_count": 16,
   "metadata": {
    "collapsed": false
   },
   "outputs": [
    {
     "data": {
      "text/html": [
       "<div>\n",
       "<style>\n",
       "    .dataframe thead tr:only-child th {\n",
       "        text-align: right;\n",
       "    }\n",
       "\n",
       "    .dataframe thead th {\n",
       "        text-align: left;\n",
       "    }\n",
       "\n",
       "    .dataframe tbody tr th {\n",
       "        vertical-align: top;\n",
       "    }\n",
       "</style>\n",
       "<table border=\"1\" class=\"dataframe\">\n",
       "  <thead>\n",
       "    <tr style=\"text-align: right;\">\n",
       "      <th></th>\n",
       "      <th>Estado</th>\n",
       "      <th>FechasFechaPublicacion</th>\n",
       "      <th>FechasFechaCierre</th>\n",
       "      <th>Nombre</th>\n",
       "      <th>CompradorNombreOrganismo</th>\n",
       "      <th>CompradorCodigoOrganismo</th>\n",
       "      <th>AdjudicacionUrlActa</th>\n",
       "      <th>CodigoExterno</th>\n",
       "      <th>class_sold</th>\n",
       "    </tr>\n",
       "  </thead>\n",
       "  <tbody>\n",
       "    <tr>\n",
       "      <th>4</th>\n",
       "      <td>Desierta o art 3 o 9 Ley 19 886</td>\n",
       "      <td>2016-11-02T15:33:25.95</td>\n",
       "      <td>2016-11-08T12:01:00</td>\n",
       "      <td>MOCHILAS PROYECTO INFANCIA</td>\n",
       "      <td>ILUSTRE MUNICIPALIDAD DE RANCAGUA</td>\n",
       "      <td>87167</td>\n",
       "      <td>http://www.mercadopublico.cl/Procurement/Modules/RFB/StepsProcessAward/PreviewAwardAct.aspx?qs=t27FwHY6GxhIEjFmTlRD6yyYduI7UlEBWC6N4Q0ABXo=</td>\n",
       "      <td>2401-442-L116</td>\n",
       "      <td>1</td>\n",
       "    </tr>\n",
       "    <tr>\n",
       "      <th>5</th>\n",
       "      <td>Adjudicada</td>\n",
       "      <td>2016-11-15T17:04:11.183</td>\n",
       "      <td>2016-11-22T12:00:00</td>\n",
       "      <td>MOCHILAS PROYECTO INFANCIA</td>\n",
       "      <td>ILUSTRE MUNICIPALIDAD DE RANCAGUA</td>\n",
       "      <td>87167</td>\n",
       "      <td>http://www.mercadopublico.cl/Procurement/Modules/RFB/StepsProcessAward/PreviewAwardAct.aspx?qs=ckCgGyh5kukvjtTq6rUOy23XxwBsgCyz3x7T4cedS3k=</td>\n",
       "      <td>2401-467-L116</td>\n",
       "      <td>1</td>\n",
       "    </tr>\n",
       "  </tbody>\n",
       "</table>\n",
       "</div>"
      ],
      "text/plain": [
       "                            Estado   FechasFechaPublicacion  \\\n",
       "4  Desierta o art 3 o 9 Ley 19 886   2016-11-02T15:33:25.95   \n",
       "5                       Adjudicada  2016-11-15T17:04:11.183   \n",
       "\n",
       "     FechasFechaCierre                      Nombre  \\\n",
       "4  2016-11-08T12:01:00  MOCHILAS PROYECTO INFANCIA   \n",
       "5  2016-11-22T12:00:00  MOCHILAS PROYECTO INFANCIA   \n",
       "\n",
       "            CompradorNombreOrganismo  CompradorCodigoOrganismo  \\\n",
       "4  ILUSTRE MUNICIPALIDAD DE RANCAGUA                     87167   \n",
       "5  ILUSTRE MUNICIPALIDAD DE RANCAGUA                     87167   \n",
       "\n",
       "                                                                                                                           AdjudicacionUrlActa  \\\n",
       "4  http://www.mercadopublico.cl/Procurement/Modules/RFB/StepsProcessAward/PreviewAwardAct.aspx?qs=t27FwHY6GxhIEjFmTlRD6yyYduI7UlEBWC6N4Q0ABXo=   \n",
       "5  http://www.mercadopublico.cl/Procurement/Modules/RFB/StepsProcessAward/PreviewAwardAct.aspx?qs=ckCgGyh5kukvjtTq6rUOy23XxwBsgCyz3x7T4cedS3k=   \n",
       "\n",
       "   CodigoExterno  class_sold  \n",
       "4  2401-442-L116           1  \n",
       "5  2401-467-L116           1  "
      ]
     },
     "execution_count": 16,
     "metadata": {},
     "output_type": "execute_result"
    }
   ],
   "source": [
    "merged[\n",
    "    (merged['CodigoExterno'].isin(['2401-442-L116', '2401-467-L116']))\n",
    "]"
   ]
  },
  {
   "cell_type": "markdown",
   "metadata": {},
   "source": [
    "### Remains dead\n",
    "An example where a tender remains deserted in the future re-publication."
   ]
  },
  {
   "cell_type": "code",
   "execution_count": 17,
   "metadata": {
    "collapsed": false,
    "scrolled": true
   },
   "outputs": [
    {
     "data": {
      "text/html": [
       "<div>\n",
       "<style>\n",
       "    .dataframe thead tr:only-child th {\n",
       "        text-align: right;\n",
       "    }\n",
       "\n",
       "    .dataframe thead th {\n",
       "        text-align: left;\n",
       "    }\n",
       "\n",
       "    .dataframe tbody tr th {\n",
       "        vertical-align: top;\n",
       "    }\n",
       "</style>\n",
       "<table border=\"1\" class=\"dataframe\">\n",
       "  <thead>\n",
       "    <tr style=\"text-align: right;\">\n",
       "      <th></th>\n",
       "      <th>Estado</th>\n",
       "      <th>FechasFechaPublicacion</th>\n",
       "      <th>FechasFechaCierre</th>\n",
       "      <th>Nombre</th>\n",
       "      <th>CompradorNombreOrganismo</th>\n",
       "      <th>CompradorCodigoOrganismo</th>\n",
       "      <th>AdjudicacionUrlActa</th>\n",
       "      <th>CodigoExterno</th>\n",
       "      <th>class_sold</th>\n",
       "    </tr>\n",
       "  </thead>\n",
       "  <tbody>\n",
       "    <tr>\n",
       "      <th>2</th>\n",
       "      <td>Desierta o art 3 o 9 Ley 19 886</td>\n",
       "      <td>2016-11-02T15:23:50.373</td>\n",
       "      <td>2016-11-10T09:00:00</td>\n",
       "      <td>Examen Ocupacional a Personal del Aeropuerto Diego Aracena</td>\n",
       "      <td>Direccion General de Aeronautica Civil</td>\n",
       "      <td>7202</td>\n",
       "      <td>http://www.mercadopublico.cl/Procurement/Modules/RFB/StepsProcessAward/PreviewAwardAct.aspx?qs=HJfcGaPNPX9fLUtNwNIuJVnzatvdmhHFwZl9efRvz+U=</td>\n",
       "      <td>1989-99-L116</td>\n",
       "      <td>0</td>\n",
       "    </tr>\n",
       "    <tr>\n",
       "      <th>3</th>\n",
       "      <td>Desierta o art 3 o 9 Ley 19 886</td>\n",
       "      <td>2016-11-23T16:37:08.103</td>\n",
       "      <td>2016-12-01T09:00:00</td>\n",
       "      <td>Examen Ocupacional a Personal del Aeropuerto Diego Aracena</td>\n",
       "      <td>Direccion General de Aeronautica Civil</td>\n",
       "      <td>7202</td>\n",
       "      <td>http://www.mercadopublico.cl/Procurement/Modules/RFB/StepsProcessAward/PreviewAwardAct.aspx?qs=Qn8nkbm19kyaC/lMqhdo9XBRJBMJ0G6q2k62Rth9e/I=</td>\n",
       "      <td>1989-104-CO16</td>\n",
       "      <td>0</td>\n",
       "    </tr>\n",
       "  </tbody>\n",
       "</table>\n",
       "</div>"
      ],
      "text/plain": [
       "                            Estado   FechasFechaPublicacion  \\\n",
       "2  Desierta o art 3 o 9 Ley 19 886  2016-11-02T15:23:50.373   \n",
       "3  Desierta o art 3 o 9 Ley 19 886  2016-11-23T16:37:08.103   \n",
       "\n",
       "     FechasFechaCierre  \\\n",
       "2  2016-11-10T09:00:00   \n",
       "3  2016-12-01T09:00:00   \n",
       "\n",
       "                                                       Nombre  \\\n",
       "2  Examen Ocupacional a Personal del Aeropuerto Diego Aracena   \n",
       "3  Examen Ocupacional a Personal del Aeropuerto Diego Aracena   \n",
       "\n",
       "                 CompradorNombreOrganismo  CompradorCodigoOrganismo  \\\n",
       "2  Direccion General de Aeronautica Civil                      7202   \n",
       "3  Direccion General de Aeronautica Civil                      7202   \n",
       "\n",
       "                                                                                                                           AdjudicacionUrlActa  \\\n",
       "2  http://www.mercadopublico.cl/Procurement/Modules/RFB/StepsProcessAward/PreviewAwardAct.aspx?qs=HJfcGaPNPX9fLUtNwNIuJVnzatvdmhHFwZl9efRvz+U=   \n",
       "3  http://www.mercadopublico.cl/Procurement/Modules/RFB/StepsProcessAward/PreviewAwardAct.aspx?qs=Qn8nkbm19kyaC/lMqhdo9XBRJBMJ0G6q2k62Rth9e/I=   \n",
       "\n",
       "   CodigoExterno  class_sold  \n",
       "2   1989-99-L116           0  \n",
       "3  1989-104-CO16           0  "
      ]
     },
     "execution_count": 17,
     "metadata": {},
     "output_type": "execute_result"
    }
   ],
   "source": [
    "merged[\n",
    "    (merged['CodigoExterno'].isin(['1989-99-L116', '1989-104-CO16']))\n",
    "]"
   ]
  },
  {
   "cell_type": "markdown",
   "metadata": {},
   "source": [
    "## Constructing trace df with features"
   ]
  },
  {
   "cell_type": "code",
   "execution_count": 18,
   "metadata": {
    "collapsed": false
   },
   "outputs": [
    {
     "data": {
      "text/plain": [
       "Index(['Estado', 'FechasFechaPublicacion', 'FechasFechaCierre', 'Nombre',\n",
       "       'CompradorNombreOrganismo', 'CompradorCodigoOrganismo',\n",
       "       'AdjudicacionUrlActa', 'CodigoExterno', 'class_sold'],\n",
       "      dtype='object')"
      ]
     },
     "execution_count": 18,
     "metadata": {},
     "output_type": "execute_result"
    }
   ],
   "source": [
    "merged.columns"
   ]
  },
  {
   "cell_type": "code",
   "execution_count": 19,
   "metadata": {
    "collapsed": false
   },
   "outputs": [],
   "source": [
    "# get date data\n",
    "aux = merged[['Nombre', 'FechasFechaPublicacion', 'FechasFechaCierre']]\n",
    "aux['FechasFechaPublicacion'] = pd.to_datetime(aux.loc[:,'FechasFechaPublicacion'])\n",
    "aux['FechasFechaCierre'] = pd.to_datetime(aux.loc[:,'FechasFechaCierre'])\n",
    "aux['tender_duration'] = aux['FechasFechaCierre'] - aux['FechasFechaPublicacion']\n",
    "\n",
    "def compute_lapse(tname, df):\n",
    "    trace = df[(df['Nombre']==tname)]\n",
    "    last = None\n",
    "    lapse_list = list()\n",
    "    for tender in trace.itertuples():\n",
    "        now = tender\n",
    "        if last is not None:\n",
    "            # compute lapse\n",
    "            lapse_list.append(now.FechasFechaPublicacion - last.FechasFechaCierre)\n",
    "        last = now\n",
    "    return np.mean(lapse_list)\n",
    "\n",
    "def compute_duration(tname, df):\n",
    "    return df.loc[(df['Nombre']==tname), 'tender_duration'].mean()\n",
    "\n",
    "def cmp_desc_chg(tname, df):\n",
    "    trace = df[(df['Nombre']==tname)]\n",
    "    last = None\n",
    "    change_list = list()\n",
    "    for tender in trace.itertuples():\n",
    "        now = tender\n",
    "        if last is not None:\n",
    "            # compute lapse\n",
    "            change_list.append(len(now.Descripcion_y) - len(last.Descripcion_y))\n",
    "        last = now\n",
    "    return np.mean(change_list)\n",
    "            \n",
    "trace_df = merged[['Nombre', 'class_sold', 'CompradorCodigoOrganismo', 'CodigoExterno']]\n",
    "# trace_df = trace_df.drop_duplicates()\n",
    "trace_df.loc[:,'lapse'] = aux.loc[:,'Nombre'].apply(lambda x: compute_lapse(x, aux))\n",
    "trace_df['avg_tduration'] = aux.loc[:,'Nombre'].apply(lambda x: compute_duration(x, aux))\n",
    "\n",
    "# product code, region, average number of words in description, item quantity, reclamos, \n",
    "aux = tall_df[['CodigoProducto', 'CompradorRegionUnidad', 'Descripcion_y', \n",
    "               'ItemsCantidad', 'CantidadReclamos', 'CodigoExterno']]\n",
    "aux = aux.drop_duplicates('CodigoExterno')\n",
    "# trace_df = trace_df.merge(merged[['Nombre', 'CodigoExterno']], on='Nombre')\n",
    "trace_df = trace_df.merge(aux, on='CodigoExterno')\n",
    "trace_df['des_len'] = trace_df['Descripcion_y'].apply(len)\n",
    "trace_df['name_len'] = trace_df['Nombre'].apply(len) \n",
    "trace_df['avg_desc_chg'] = trace_df['Nombre'].apply(lambda x: cmp_desc_chg(x, trace_df))\n",
    "trace_df = trace_df[[colname for colname in trace_df.columns \n",
    "                     if not (colname == 'Descripcion_y' or colname == 'CodigoExterno' or colname == 'Nombre') ]]\n",
    "# convert timedelta columns to hours\n",
    "trace_df['lapse'] = trace_df['lapse'].dt.components.hours\n",
    "trace_df['avg_tduration'] = trace_df['avg_tduration'].dt.components.hours\n"
   ]
  },
  {
   "cell_type": "markdown",
   "metadata": {},
   "source": [
    "### Convert to numerical"
   ]
  },
  {
   "cell_type": "code",
   "execution_count": 20,
   "metadata": {
    "collapsed": false
   },
   "outputs": [],
   "source": [
    "from sklearn import preprocessing\n",
    "\n",
    "le_dict = dict()\n",
    "for col in trace_df.columns:\n",
    "    if np.issubdtype(trace_df[col].dtype, np.number):\n",
    "        continue\n",
    "    le = preprocessing.LabelEncoder()\n",
    "    # fit the labels\n",
    "    _ = le.fit(trace_df[col])\n",
    "    # transform the labels\n",
    "    trace_df[col] = le.transform(trace_df[col])\n",
    "    # save the labeler\n",
    "    le_dict[col] = le"
   ]
  },
  {
   "cell_type": "markdown",
   "metadata": {},
   "source": [
    "### Remove columns that have low variance"
   ]
  },
  {
   "cell_type": "code",
   "execution_count": 21,
   "metadata": {
    "collapsed": true
   },
   "outputs": [],
   "source": [
    "var_threshold = .01\n",
    "for col in trace_df.columns:\n",
    "    if trace_df[col].var() < var_threshold:\n",
    "        print('Removing column: {}'.format(col))\n",
    "        trace_df.drop(col, axis=1, inplace=True)"
   ]
  },
  {
   "cell_type": "code",
   "execution_count": 22,
   "metadata": {
    "collapsed": false
   },
   "outputs": [
    {
     "data": {
      "image/png": "[encoded data removed]",
      "text/plain": [
       "<matplotlib.figure.Figure at 0x7ffb335d7630>"
      ]
     },
     "metadata": {},
     "output_type": "display_data"
    }
   ],
   "source": [
    "import seaborn as sns\n",
    "\n",
    "corr = trace_df.corr('spearman')\n",
    "\n",
    "# set up the matplotlib figure\n",
    "fig, ax = plt.subplots(figsize=(11, 9))\n",
    "\n",
    "# generate a custom diverging colormap\n",
    "cmap = sns.diverging_palette(220, 10, as_cmap=True)\n",
    "\n",
    "# Draw the heatmap with the mask and correct aspect ratio\n",
    "_ = sns.heatmap(corr, cmap=cmap, vmax=.3, center=0,\n",
    "               square=True, linewidth=.5, cbar_kws={'shrink': .5})\n",
    "\n",
    "_ = ax.set_title('Correlation coefficient matrix under Spearman (monotonic relationship)', fontsize=20)"
   ]
  },
  {
   "cell_type": "markdown",
   "metadata": {},
   "source": [
    "## Evaluate with classifier on class_sold"
   ]
  },
  {
   "cell_type": "code",
   "execution_count": 23,
   "metadata": {
    "collapsed": false
   },
   "outputs": [
    {
     "data": {
      "text/plain": [
       "'\\nnames = [\"Nearest Neighbors\", \"Linear SVM\", \"RBF SVM\", \"Gaussian Process\",\\n         \"Decision Tree\", \"Random Forest\", \"Neural Net\", \"AdaBoost\",\\n         \"Naive Bayes\", \"QDA\"]\\n'"
      ]
     },
     "execution_count": 23,
     "metadata": {},
     "output_type": "execute_result"
    }
   ],
   "source": [
    "from matplotlib.colors import ListedColormap\n",
    "from sklearn.model_selection import train_test_split\n",
    "from sklearn.preprocessing import StandardScaler\n",
    "from sklearn.datasets import make_moons, make_circles, make_classification\n",
    "from sklearn.neural_network import MLPClassifier\n",
    "from sklearn.neighbors import KNeighborsClassifier\n",
    "from sklearn.svm import SVC\n",
    "from sklearn.gaussian_process import GaussianProcessClassifier\n",
    "from sklearn.gaussian_process.kernels import RBF\n",
    "from sklearn.tree import DecisionTreeClassifier\n",
    "from sklearn.ensemble import RandomForestClassifier, AdaBoostClassifier\n",
    "from sklearn.naive_bayes import GaussianNB\n",
    "from sklearn.discriminant_analysis import QuadraticDiscriminantAnalysis\n",
    "\n",
    "from sklearn.model_selection import train_test_split\n",
    "from sklearn.metrics import classification_report\n",
    "from sklearn.metrics import precision_recall_fscore_support\n",
    "\n",
    "'''\n",
    "names = [\"Nearest Neighbors\", \"Linear SVM\", \"RBF SVM\", \"Gaussian Process\",\n",
    "         \"Decision Tree\", \"Random Forest\", \"Neural Net\", \"AdaBoost\",\n",
    "         \"Naive Bayes\", \"QDA\"]\n",
    "'''\n",
    "names = [\"Nearest Neighbors\", \"RBF SVM\", \n",
    "         \"Decision Tree\", \"Random Forest\", \"Neural Net\", \"AdaBoost\",\n",
    "         \"Naive Bayes\", \"QDA\"]\n",
    "\n",
    "classifiers = [\n",
    "    KNeighborsClassifier(3),\n",
    "#    SVC(kernel=\"linear\", C=0.025),\n",
    "    SVC(gamma=2, C=1),\n",
    "#    GaussianProcessClassifier(1.0 * RBF(1.0), warm_start=True),\n",
    "    DecisionTreeClassifier(max_depth=5),\n",
    "    RandomForestClassifier(max_depth=5, n_estimators=10, max_features=1),\n",
    "    MLPClassifier(alpha=1),\n",
    "    AdaBoostClassifier(),\n",
    "    GaussianNB(),\n",
    "    QuadraticDiscriminantAnalysis()]"
   ]
  },
  {
   "cell_type": "markdown",
   "metadata": {},
   "source": [
    "### Distribution of class_sold"
   ]
  },
  {
   "cell_type": "code",
   "execution_count": 24,
   "metadata": {
    "collapsed": false
   },
   "outputs": [
    {
     "data": {
      "image/png": "[encoded data removed]",
      "text/plain": [
       "<matplotlib.figure.Figure at 0x7ffb335d7390>"
      ]
     },
     "metadata": {},
     "output_type": "display_data"
    }
   ],
   "source": [
    "grouped = trace_df.groupby('class_sold').size()\n",
    "ax = grouped.plot(kind='barh')\n",
    "ax.set_title('Distribution of class_sold');"
   ]
  },
  {
   "cell_type": "markdown",
   "metadata": {},
   "source": [
    "Given that the two classes are only slightly unbalanced, there's really no need to oversample, but let's try it anyway."
   ]
  },
  {
   "cell_type": "markdown",
   "metadata": {},
   "source": [
    "### Create train and test sets"
   ]
  },
  {
   "cell_type": "code",
   "execution_count": 25,
   "metadata": {
    "collapsed": false
   },
   "outputs": [
    {
     "name": "stdout",
     "output_type": "stream",
     "text": [
      "Removed 3 rows from test set with original: 19\n",
      "Removed 15.79% of original\n",
      "Oversampling 2 rows...\n"
     ]
    }
   ],
   "source": [
    "dataset_y = trace_df['class_sold']\n",
    "dataset_X = trace_df.drop('class_sold', axis=1)\n",
    "\n",
    "train_X, test_X, train_y, test_y = train_test_split(dataset_X, dataset_y, test_size=.4, random_state=123)\n",
    "\n",
    "# there can be overlap between train and test sets where there are instances duplicated in both train and test\n",
    "# for fairer test, remove those from test\n",
    "train = pd.concat([train_X, train_y], axis=1)\n",
    "test = pd.concat([test_X, test_y], axis=1)\n",
    "before = test.shape[0]\n",
    "\n",
    "merged = pd.merge(test, train, how='outer', indicator=True)\n",
    "# select only left_only, i.e., unique test set instances\n",
    "test_no_dup = merged.loc[merged._merge=='left_only']\n",
    "test_no_dup.drop('_merge', inplace=True, axis=1)\n",
    "after = test_no_dup.shape[0]\n",
    "print('Removed {} rows from test set with original: {}'.format(before - after, before))\n",
    "print('Removed {:.2f}% of original'.format((before - after) / before * 100))\n",
    "\n",
    "train.reset_index(inplace=True, drop=True)\n",
    "test.reset_index(inplace=True, drop=True)\n",
    "\n",
    "# oversample train set\n",
    "grouped = train.groupby('class_sold').size()\n",
    "to_oversample = int(abs(grouped.diff()[1]))\n",
    "print('Oversampling {} rows...'.format(to_oversample))\n",
    "idx = np.random.choice(train.loc[train['class_sold'] == 0].index, size=to_oversample)\n",
    "train_oversampled = pd.concat([train, train.iloc[idx]])\n",
    "\n",
    "train_ds_list = [train, train_oversampled]\n",
    "train_ds_namelist = ['Original', 'Oversampled']\n",
    "\n",
    "test_ds_list = [test, test_no_dup]\n",
    "test_ds_namelist = ['Original', 'No duplicates']"
   ]
  },
  {
   "cell_type": "code",
   "execution_count": 26,
   "metadata": {
    "collapsed": true
   },
   "outputs": [],
   "source": [
    "import multiprocessing\n",
    "from multiprocessing import Queue\n",
    "import math"
   ]
  },
  {
   "cell_type": "code",
   "execution_count": 27,
   "metadata": {
    "collapsed": true
   },
   "outputs": [],
   "source": [
    "# parallelize at the level of classifiers\n",
    "def mp_classify(train_X, train_y, test_X, test_y, names, classifiers, nprocs):\n",
    "    def worker(train_X, train_y, test_X, test_y, name_list, clf_list, out_q):\n",
    "        '''\n",
    "        The worker function, invoked in a process. \n",
    "        '''\n",
    "        outdict = {}\n",
    "        for name, clf in zip(name_list, clf_list):\n",
    "            # train and test classifier\n",
    "            # print('Training {}...'.format(name))\n",
    "            clf.fit(train_X, train_y)\n",
    "            # print('Testing {}...'.format(name))\n",
    "            y_pred = clf.predict(test_X)\n",
    "            scores = precision_recall_fscore_support(y_pred=y_pred, y_true=test_y)\n",
    "            score_list = list(zip([name for _ in range(len(scores[0]))], clf.classes_,\n",
    "                                 scores[0], scores[1], scores[2], scores[3]))\n",
    "            # put report to dict\n",
    "            outdict[name] = score_list\n",
    "        # put to out_q\n",
    "        out_q.put(outdict)\n",
    "        \n",
    "    # Each process wil get 'chunksize' clfs and a queue to put the outdict in\n",
    "    out_q = Queue()\n",
    "    chunksz = int(math.ceil(len(classifiers) / float(nprocs)))\n",
    "    procs = []\n",
    "    \n",
    "    for i in range(nprocs):\n",
    "        start = chunksz * i\n",
    "        end = chunksz * (i + 1)\n",
    "        p = multiprocessing.Process(\n",
    "                target=worker,\n",
    "                args=(train_X, train_y, test_X, test_y, \n",
    "                      names[start:end], classifiers[start:end], out_q))\n",
    "        procs.append(p)\n",
    "        p.start()\n",
    "    \n",
    "    # Collect all results into a single result dict\n",
    "    resultdict = dict()\n",
    "    for i in range(nprocs):\n",
    "        outdict = out_q.get()\n",
    "        resultdict.update(outdict)\n",
    "    # turn resultdict to dataframe\n",
    "    # print(list(resultdict.values()))\n",
    "    values = fcts.reduce(lambda l, x: l + x, list(resultdict.values()))\n",
    "    values = list(zip(*values))\n",
    "    value_dict = {'clf': values[0], 'class': values[1],\n",
    "                'precision': values[2], 'recall': values[3],\n",
    "                'f1': values[4], 'support': values[5]}\n",
    "    result_df = pd.DataFrame(value_dict)\n",
    "        \n",
    "    # wait for all worker processes to finish\n",
    "    for p in procs: \n",
    "        p.join()\n",
    "    \n",
    "    return result_df"
   ]
  },
  {
   "cell_type": "code",
   "execution_count": 28,
   "metadata": {
    "collapsed": false
   },
   "outputs": [
    {
     "name": "stderr",
     "output_type": "stream",
     "text": [
      "/home/jonathan/anaconda3/lib/python3.5/site-packages/sklearn/metrics/classification.py:1113: UndefinedMetricWarning: Precision and F-score are ill-defined and being set to 0.0 in labels with no predicted samples.\n",
      "  'precision', 'predicted', average, warn_for)\n",
      "/home/jonathan/anaconda3/lib/python3.5/site-packages/sklearn/metrics/classification.py:1113: UndefinedMetricWarning: Precision and F-score are ill-defined and being set to 0.0 in labels with no predicted samples.\n",
      "  'precision', 'predicted', average, warn_for)\n",
      "/home/jonathan/anaconda3/lib/python3.5/site-packages/sklearn/metrics/classification.py:1113: UndefinedMetricWarning: Precision and F-score are ill-defined and being set to 0.0 in labels with no predicted samples.\n",
      "  'precision', 'predicted', average, warn_for)\n",
      "/home/jonathan/anaconda3/lib/python3.5/site-packages/sklearn/metrics/classification.py:1113: UndefinedMetricWarning: Precision and F-score are ill-defined and being set to 0.0 in labels with no predicted samples.\n",
      "  'precision', 'predicted', average, warn_for)\n"
     ]
    },
    {
     "data": {
      "text/plain": [
       "\"\\noutdir = '.' + os.sep + 'out'\\nif not os.path.isdir(outdir):\\n    os.makedirs(outdir)\\nresult_df.to_csv(outdir + os.sep + 'classificationResult.csv', index=None)\\n\""
      ]
     },
     "execution_count": 28,
     "metadata": {},
     "output_type": "execute_result"
    }
   ],
   "source": [
    "nprocs = multiprocessing.cpu_count()\n",
    "# print(nprocs)\n",
    "\n",
    "result_df = pd.DataFrame()\n",
    "for train_ds_name, train_ds in zip(train_ds_namelist, train_ds_list):\n",
    "    train_X = train_ds.drop('class_sold', axis=1)\n",
    "    train_y = train_ds['class_sold']\n",
    "    # print('Training on {} dataset'.format(train_ds_name))\n",
    "    \n",
    "    for test_ds_name, test_ds in zip(test_ds_namelist, test_ds_list):\n",
    "        test_X = test_ds.drop('class_sold', axis=1)\n",
    "        test_y = test_ds['class_sold']\n",
    "        # los experimentos fueron realizados en otro computador, solamente importamos los resultados\n",
    "        \n",
    "        out_df = mp_classify(train_X, train_y, test_X, test_y, names, classifiers, nprocs)\n",
    "        # columns about train and test set\n",
    "        out_df['train'] = [train_ds_name for _ in range(out_df.shape[0])]\n",
    "        out_df['test'] = [test_ds_name for _ in range(out_df.shape[0])]\n",
    "        out_df = out_df[['train', 'test', 'clf', 'class', 'precision', 'recall', 'f1', 'support']]\n",
    "        if result_df.empty:\n",
    "            result_df = out_df\n",
    "        else:\n",
    "            result_df = pd.concat([result_df, out_df], axis=0)\n",
    "\n",
    "'''\n",
    "outdir = '.' + os.sep + 'out'\n",
    "if not os.path.isdir(outdir):\n",
    "    os.makedirs(outdir)\n",
    "result_df.to_csv(outdir + os.sep + 'classificationResult.csv', index=None)\n",
    "'''\n",
    "\n",
    "# result_df = pd.read_csv('.' + os.sep + 'out' + os.sep + 'classificationResult.csv')"
   ]
  },
  {
   "cell_type": "code",
   "execution_count": 29,
   "metadata": {
    "collapsed": false
   },
   "outputs": [
    {
     "data": {
      "image/png": "[encoded data removed]",
      "text/plain": [
       "<matplotlib.figure.Figure at 0x7ffb2eb88400>"
      ]
     },
     "metadata": {},
     "output_type": "display_data"
    }
   ],
   "source": [
    "nrows = result_df.clf.unique().shape[0]\n",
    "ncols = result_df[['train', 'test']].drop_duplicates().shape[0]\n",
    "\n",
    "fig, axes = plt.subplots(nrows=nrows, ncols=ncols, figsize=(30, 30))\n",
    "\n",
    "clfs = result_df.clf.unique()\n",
    "train_test_pairs = result_df[['train', 'test']].drop_duplicates().values\n",
    "\n",
    "for i in range(nrows):\n",
    "    clf = clfs[i]\n",
    "    clf_results = result_df[(result_df.clf == clf)]\n",
    "    for j in range(ncols):\n",
    "        train_test_pair = train_test_pairs[j]\n",
    "        # print(train_test_pair)\n",
    "        ax = axes[i, j]\n",
    "        result = clf_results[(clf_results['train']==train_test_pair[0])&\n",
    "                            (clf_results['test']==train_test_pair[1])]\n",
    "        # print(result)\n",
    "        _ = result[['precision', 'recall', 'f1']].plot(kind='bar', ax=ax, rot=0);\n",
    "        \n",
    "        if i == 0:\n",
    "            _ = ax.set_title('Train: {}, Test: {}'.format(train_test_pair[0], train_test_pair[1]))\n",
    "        _ = ax.set_ylabel('{}'.format(clf))\n",
    "        _ = ax.set_xticklabels(result['class'])\n",
    "        \n",
    "# plt.savefig('./classificationResult.png')\n",
    "plt.tight_layout()"
   ]
  },
  {
   "cell_type": "markdown",
   "metadata": {},
   "source": [
    "Having ensured that all the chosen traces all make sense we find that the predictive models are overfitting, probably due to the size of the dataset. But this also suggests that this direction is promising. In order to investigate if the predictive models are making sense, we looked at the rendered decision tree."
   ]
  },
  {
   "cell_type": "code",
   "execution_count": 30,
   "metadata": {
    "collapsed": false
   },
   "outputs": [],
   "source": [
    "# get the original, no duplicates pair\n",
    "train_ds = train_ds_list[0]\n",
    "test_ds = test_ds_list[1]\n",
    "\n",
    "train_X = train_ds.drop('class_sold', axis=1)\n",
    "train_y = train_ds['class_sold']\n",
    "\n",
    "test_X = test_ds.drop('class_sold', axis=1)\n",
    "test_y = test_ds['class_sold']\n",
    "\n",
    "ds_X = pd.concat([train_X, test_X], axis=0)\n",
    "ds_y = pd.concat([train_y, test_y], axis=0)\n",
    "\n",
    "clf = DecisionTreeClassifier(max_depth=5)\n",
    "clf = clf.fit(ds_X, ds_y)"
   ]
  },
  {
   "cell_type": "code",
   "execution_count": 31,
   "metadata": {
    "collapsed": false
   },
   "outputs": [
    {
     "data": {
      "image/svg+xml": [
       "<?xml version=\"1.0\" encoding=\"UTF-8\" standalone=\"no\"?>\n",
       "<!DOCTYPE svg PUBLIC \"-//W3C//DTD SVG 1.1//EN\"\n",
       " \"http://www.w3.org/Graphics/SVG/1.1/DTD/svg11.dtd\">\n",
       "<!-- Generated by graphviz version 2.38.0 (20140413.2041)\n",
       " -->\n",
       "<!-- Title: Tree Pages: 1 -->\n",
       "<svg width=\"679pt\" height=\"671pt\"\n",
       " viewBox=\"0.00 0.00 678.50 671.00\" xmlns=\"http://www.w3.org/2000/svg\" xmlns:xlink=\"http://www.w3.org/1999/xlink\">\n",
       "<g id=\"graph0\" class=\"graph\" transform=\"scale(1 1) rotate(0) translate(4 667)\">\n",
       "<title>Tree</title>\n",
       "<polygon fill=\"white\" stroke=\"none\" points=\"-4,4 -4,-667 674.5,-667 674.5,4 -4,4\"/>\n",
       "<!-- 0 -->\n",
       "<g id=\"node1\" class=\"node\"><title>0</title>\n",
       "<path fill=\"#399de5\" fill-opacity=\"0.086275\" stroke=\"black\" d=\"M344.5,-663C344.5,-663 258.5,-663 258.5,-663 252.5,-663 246.5,-657 246.5,-651 246.5,-651 246.5,-592 246.5,-592 246.5,-586 252.5,-580 258.5,-580 258.5,-580 344.5,-580 344.5,-580 350.5,-580 356.5,-586 356.5,-592 356.5,-592 356.5,-651 356.5,-651 356.5,-657 350.5,-663 344.5,-663\"/>\n",
       "<text text-anchor=\"start\" x=\"268\" y=\"-647.8\" font-family=\"Helvetica,sans-Serif\" font-size=\"14.00\">lapse ≤ 0.5</text>\n",
       "<text text-anchor=\"start\" x=\"266\" y=\"-632.8\" font-family=\"Helvetica,sans-Serif\" font-size=\"14.00\">gini = 0.499</text>\n",
       "<text text-anchor=\"start\" x=\"260.5\" y=\"-617.8\" font-family=\"Helvetica,sans-Serif\" font-size=\"14.00\">samples = 44</text>\n",
       "<text text-anchor=\"start\" x=\"254.5\" y=\"-602.8\" font-family=\"Helvetica,sans-Serif\" font-size=\"14.00\">value = [21, 23]</text>\n",
       "<text text-anchor=\"start\" x=\"264.5\" y=\"-587.8\" font-family=\"Helvetica,sans-Serif\" font-size=\"14.00\">class = Sold</text>\n",
       "</g>\n",
       "<!-- 1 -->\n",
       "<g id=\"node2\" class=\"node\"><title>1</title>\n",
       "<path fill=\"#399de5\" stroke=\"black\" d=\"M238,-536.5C238,-536.5 167,-536.5 167,-536.5 161,-536.5 155,-530.5 155,-524.5 155,-524.5 155,-480.5 155,-480.5 155,-474.5 161,-468.5 167,-468.5 167,-468.5 238,-468.5 238,-468.5 244,-468.5 250,-474.5 250,-480.5 250,-480.5 250,-524.5 250,-524.5 250,-530.5 244,-536.5 238,-536.5\"/>\n",
       "<text text-anchor=\"start\" x=\"174.5\" y=\"-521.3\" font-family=\"Helvetica,sans-Serif\" font-size=\"14.00\">gini = 0.0</text>\n",
       "<text text-anchor=\"start\" x=\"165\" y=\"-506.3\" font-family=\"Helvetica,sans-Serif\" font-size=\"14.00\">samples = 8</text>\n",
       "<text text-anchor=\"start\" x=\"163\" y=\"-491.3\" font-family=\"Helvetica,sans-Serif\" font-size=\"14.00\">value = [0, 8]</text>\n",
       "<text text-anchor=\"start\" x=\"165.5\" y=\"-476.3\" font-family=\"Helvetica,sans-Serif\" font-size=\"14.00\">class = Sold</text>\n",
       "</g>\n",
       "<!-- 0&#45;&gt;1 -->\n",
       "<g id=\"edge1\" class=\"edge\"><title>0&#45;&gt;1</title>\n",
       "<path fill=\"none\" stroke=\"black\" d=\"M267.152,-579.907C257.442,-568.432 246.871,-555.938 237.143,-544.442\"/>\n",
       "<polygon fill=\"black\" stroke=\"black\" points=\"239.696,-542.04 230.564,-536.667 234.352,-546.562 239.696,-542.04\"/>\n",
       "<text text-anchor=\"middle\" x=\"228.488\" y=\"-557.881\" font-family=\"Helvetica,sans-Serif\" font-size=\"14.00\">True</text>\n",
       "</g>\n",
       "<!-- 2 -->\n",
       "<g id=\"node3\" class=\"node\"><title>2</title>\n",
       "<path fill=\"#e58139\" fill-opacity=\"0.286275\" stroke=\"black\" d=\"M523,-544C523,-544 280,-544 280,-544 274,-544 268,-538 268,-532 268,-532 268,-473 268,-473 268,-467 274,-461 280,-461 280,-461 523,-461 523,-461 529,-461 535,-467 535,-473 535,-473 535,-532 535,-532 535,-538 529,-544 523,-544\"/>\n",
       "<text text-anchor=\"start\" x=\"276\" y=\"-528.8\" font-family=\"Helvetica,sans-Serif\" font-size=\"14.00\">CompradorCodigoOrganismo ≤ 112954.5</text>\n",
       "<text text-anchor=\"start\" x=\"362\" y=\"-513.8\" font-family=\"Helvetica,sans-Serif\" font-size=\"14.00\">gini = 0.4861</text>\n",
       "<text text-anchor=\"start\" x=\"360.5\" y=\"-498.8\" font-family=\"Helvetica,sans-Serif\" font-size=\"14.00\">samples = 36</text>\n",
       "<text text-anchor=\"start\" x=\"354.5\" y=\"-483.8\" font-family=\"Helvetica,sans-Serif\" font-size=\"14.00\">value = [21, 15]</text>\n",
       "<text text-anchor=\"start\" x=\"350.5\" y=\"-468.8\" font-family=\"Helvetica,sans-Serif\" font-size=\"14.00\">class = Deserted</text>\n",
       "</g>\n",
       "<!-- 0&#45;&gt;2 -->\n",
       "<g id=\"edge2\" class=\"edge\"><title>0&#45;&gt;2</title>\n",
       "<path fill=\"none\" stroke=\"black\" d=\"M336.195,-579.907C343.951,-570.832 352.251,-561.121 360.244,-551.769\"/>\n",
       "<polygon fill=\"black\" stroke=\"black\" points=\"363.03,-553.897 366.867,-544.021 357.709,-549.349 363.03,-553.897\"/>\n",
       "<text text-anchor=\"middle\" x=\"368.819\" y=\"-565.244\" font-family=\"Helvetica,sans-Serif\" font-size=\"14.00\">False</text>\n",
       "</g>\n",
       "<!-- 3 -->\n",
       "<g id=\"node4\" class=\"node\"><title>3</title>\n",
       "<path fill=\"#e58139\" fill-opacity=\"0.549020\" stroke=\"black\" d=\"M418,-425C418,-425 175,-425 175,-425 169,-425 163,-419 163,-413 163,-413 163,-354 163,-354 163,-348 169,-342 175,-342 175,-342 418,-342 418,-342 424,-342 430,-348 430,-354 430,-354 430,-413 430,-413 430,-419 424,-425 418,-425\"/>\n",
       "<text text-anchor=\"start\" x=\"171\" y=\"-409.8\" font-family=\"Helvetica,sans-Serif\" font-size=\"14.00\">CompradorCodigoOrganismo ≤ 105166.0</text>\n",
       "<text text-anchor=\"start\" x=\"257\" y=\"-394.8\" font-family=\"Helvetica,sans-Serif\" font-size=\"14.00\">gini = 0.4281</text>\n",
       "<text text-anchor=\"start\" x=\"255.5\" y=\"-379.8\" font-family=\"Helvetica,sans-Serif\" font-size=\"14.00\">samples = 29</text>\n",
       "<text text-anchor=\"start\" x=\"253.5\" y=\"-364.8\" font-family=\"Helvetica,sans-Serif\" font-size=\"14.00\">value = [20, 9]</text>\n",
       "<text text-anchor=\"start\" x=\"245.5\" y=\"-349.8\" font-family=\"Helvetica,sans-Serif\" font-size=\"14.00\">class = Deserted</text>\n",
       "</g>\n",
       "<!-- 2&#45;&gt;3 -->\n",
       "<g id=\"edge3\" class=\"edge\"><title>2&#45;&gt;3</title>\n",
       "<path fill=\"none\" stroke=\"black\" d=\"M365.071,-460.907C356.845,-451.742 348.037,-441.927 339.567,-432.489\"/>\n",
       "<polygon fill=\"black\" stroke=\"black\" points=\"342.149,-430.126 332.865,-425.021 336.939,-434.801 342.149,-430.126\"/>\n",
       "</g>\n",
       "<!-- 10 -->\n",
       "<g id=\"node11\" class=\"node\"><title>10</title>\n",
       "<path fill=\"#399de5\" fill-opacity=\"0.831373\" stroke=\"black\" d=\"M555,-425C555,-425 460,-425 460,-425 454,-425 448,-419 448,-413 448,-413 448,-354 448,-354 448,-348 454,-342 460,-342 460,-342 555,-342 555,-342 561,-342 567,-348 567,-354 567,-354 567,-413 567,-413 567,-419 561,-425 555,-425\"/>\n",
       "<text text-anchor=\"start\" x=\"456\" y=\"-409.8\" font-family=\"Helvetica,sans-Serif\" font-size=\"14.00\">name_len ≤ 58.0</text>\n",
       "<text text-anchor=\"start\" x=\"468\" y=\"-394.8\" font-family=\"Helvetica,sans-Serif\" font-size=\"14.00\">gini = 0.2449</text>\n",
       "<text text-anchor=\"start\" x=\"470\" y=\"-379.8\" font-family=\"Helvetica,sans-Serif\" font-size=\"14.00\">samples = 7</text>\n",
       "<text text-anchor=\"start\" x=\"468\" y=\"-364.8\" font-family=\"Helvetica,sans-Serif\" font-size=\"14.00\">value = [1, 6]</text>\n",
       "<text text-anchor=\"start\" x=\"470.5\" y=\"-349.8\" font-family=\"Helvetica,sans-Serif\" font-size=\"14.00\">class = Sold</text>\n",
       "</g>\n",
       "<!-- 2&#45;&gt;10 -->\n",
       "<g id=\"edge10\" class=\"edge\"><title>2&#45;&gt;10</title>\n",
       "<path fill=\"none\" stroke=\"black\" d=\"M438.276,-460.907C446.58,-451.742 455.472,-441.927 464.023,-432.489\"/>\n",
       "<polygon fill=\"black\" stroke=\"black\" points=\"466.669,-434.782 470.789,-425.021 461.481,-430.082 466.669,-434.782\"/>\n",
       "</g>\n",
       "<!-- 4 -->\n",
       "<g id=\"node5\" class=\"node\"><title>4</title>\n",
       "<path fill=\"#e58139\" fill-opacity=\"0.250980\" stroke=\"black\" d=\"M229.5,-306C229.5,-306 113.5,-306 113.5,-306 107.5,-306 101.5,-300 101.5,-294 101.5,-294 101.5,-235 101.5,-235 101.5,-229 107.5,-223 113.5,-223 113.5,-223 229.5,-223 229.5,-223 235.5,-223 241.5,-229 241.5,-235 241.5,-235 241.5,-294 241.5,-294 241.5,-300 235.5,-306 229.5,-306\"/>\n",
       "<text text-anchor=\"start\" x=\"109.5\" y=\"-290.8\" font-family=\"Helvetica,sans-Serif\" font-size=\"14.00\">avg_tduration ≤ 19.0</text>\n",
       "<text text-anchor=\"start\" x=\"132\" y=\"-275.8\" font-family=\"Helvetica,sans-Serif\" font-size=\"14.00\">gini = 0.4898</text>\n",
       "<text text-anchor=\"start\" x=\"130.5\" y=\"-260.8\" font-family=\"Helvetica,sans-Serif\" font-size=\"14.00\">samples = 21</text>\n",
       "<text text-anchor=\"start\" x=\"128.5\" y=\"-245.8\" font-family=\"Helvetica,sans-Serif\" font-size=\"14.00\">value = [12, 9]</text>\n",
       "<text text-anchor=\"start\" x=\"120.5\" y=\"-230.8\" font-family=\"Helvetica,sans-Serif\" font-size=\"14.00\">class = Deserted</text>\n",
       "</g>\n",
       "<!-- 3&#45;&gt;4 -->\n",
       "<g id=\"edge4\" class=\"edge\"><title>3&#45;&gt;4</title>\n",
       "<path fill=\"none\" stroke=\"black\" d=\"M253.132,-341.907C243.145,-332.56 232.438,-322.538 222.172,-312.929\"/>\n",
       "<polygon fill=\"black\" stroke=\"black\" points=\"224.484,-310.299 214.791,-306.021 219.701,-315.41 224.484,-310.299\"/>\n",
       "</g>\n",
       "<!-- 9 -->\n",
       "<g id=\"node10\" class=\"node\"><title>9</title>\n",
       "<path fill=\"#e58139\" stroke=\"black\" d=\"M365.5,-298.5C365.5,-298.5 271.5,-298.5 271.5,-298.5 265.5,-298.5 259.5,-292.5 259.5,-286.5 259.5,-286.5 259.5,-242.5 259.5,-242.5 259.5,-236.5 265.5,-230.5 271.5,-230.5 271.5,-230.5 365.5,-230.5 365.5,-230.5 371.5,-230.5 377.5,-236.5 377.5,-242.5 377.5,-242.5 377.5,-286.5 377.5,-286.5 377.5,-292.5 371.5,-298.5 365.5,-298.5\"/>\n",
       "<text text-anchor=\"start\" x=\"290.5\" y=\"-283.3\" font-family=\"Helvetica,sans-Serif\" font-size=\"14.00\">gini = 0.0</text>\n",
       "<text text-anchor=\"start\" x=\"281\" y=\"-268.3\" font-family=\"Helvetica,sans-Serif\" font-size=\"14.00\">samples = 8</text>\n",
       "<text text-anchor=\"start\" x=\"279\" y=\"-253.3\" font-family=\"Helvetica,sans-Serif\" font-size=\"14.00\">value = [8, 0]</text>\n",
       "<text text-anchor=\"start\" x=\"267.5\" y=\"-238.3\" font-family=\"Helvetica,sans-Serif\" font-size=\"14.00\">class = Deserted</text>\n",
       "</g>\n",
       "<!-- 3&#45;&gt;9 -->\n",
       "<g id=\"edge9\" class=\"edge\"><title>3&#45;&gt;9</title>\n",
       "<path fill=\"none\" stroke=\"black\" d=\"M304.133,-341.907C306.145,-331.204 308.324,-319.615 310.363,-308.776\"/>\n",
       "<polygon fill=\"black\" stroke=\"black\" points=\"313.855,-309.142 312.263,-298.667 306.976,-307.848 313.855,-309.142\"/>\n",
       "</g>\n",
       "<!-- 5 -->\n",
       "<g id=\"node6\" class=\"node\"><title>5</title>\n",
       "<path fill=\"#e58139\" fill-opacity=\"0.584314\" stroke=\"black\" d=\"M156.5,-187C156.5,-187 62.5,-187 62.5,-187 56.5,-187 50.5,-181 50.5,-175 50.5,-175 50.5,-116 50.5,-116 50.5,-110 56.5,-104 62.5,-104 62.5,-104 156.5,-104 156.5,-104 162.5,-104 168.5,-110 168.5,-116 168.5,-116 168.5,-175 168.5,-175 168.5,-181 162.5,-187 156.5,-187\"/>\n",
       "<text text-anchor=\"start\" x=\"61\" y=\"-171.8\" font-family=\"Helvetica,sans-Serif\" font-size=\"14.00\">des_len ≤ 120.0</text>\n",
       "<text text-anchor=\"start\" x=\"70\" y=\"-156.8\" font-family=\"Helvetica,sans-Serif\" font-size=\"14.00\">gini = 0.4152</text>\n",
       "<text text-anchor=\"start\" x=\"68.5\" y=\"-141.8\" font-family=\"Helvetica,sans-Serif\" font-size=\"14.00\">samples = 17</text>\n",
       "<text text-anchor=\"start\" x=\"66.5\" y=\"-126.8\" font-family=\"Helvetica,sans-Serif\" font-size=\"14.00\">value = [12, 5]</text>\n",
       "<text text-anchor=\"start\" x=\"58.5\" y=\"-111.8\" font-family=\"Helvetica,sans-Serif\" font-size=\"14.00\">class = Deserted</text>\n",
       "</g>\n",
       "<!-- 4&#45;&gt;5 -->\n",
       "<g id=\"edge5\" class=\"edge\"><title>4&#45;&gt;5</title>\n",
       "<path fill=\"none\" stroke=\"black\" d=\"M149.989,-222.907C145.373,-214.195 140.445,-204.897 135.674,-195.893\"/>\n",
       "<polygon fill=\"black\" stroke=\"black\" points=\"138.748,-194.218 130.973,-187.021 132.562,-197.496 138.748,-194.218\"/>\n",
       "</g>\n",
       "<!-- 8 -->\n",
       "<g id=\"node9\" class=\"node\"><title>8</title>\n",
       "<path fill=\"#399de5\" stroke=\"black\" d=\"M270,-179.5C270,-179.5 199,-179.5 199,-179.5 193,-179.5 187,-173.5 187,-167.5 187,-167.5 187,-123.5 187,-123.5 187,-117.5 193,-111.5 199,-111.5 199,-111.5 270,-111.5 270,-111.5 276,-111.5 282,-117.5 282,-123.5 282,-123.5 282,-167.5 282,-167.5 282,-173.5 276,-179.5 270,-179.5\"/>\n",
       "<text text-anchor=\"start\" x=\"206.5\" y=\"-164.3\" font-family=\"Helvetica,sans-Serif\" font-size=\"14.00\">gini = 0.0</text>\n",
       "<text text-anchor=\"start\" x=\"197\" y=\"-149.3\" font-family=\"Helvetica,sans-Serif\" font-size=\"14.00\">samples = 4</text>\n",
       "<text text-anchor=\"start\" x=\"195\" y=\"-134.3\" font-family=\"Helvetica,sans-Serif\" font-size=\"14.00\">value = [0, 4]</text>\n",
       "<text text-anchor=\"start\" x=\"197.5\" y=\"-119.3\" font-family=\"Helvetica,sans-Serif\" font-size=\"14.00\">class = Sold</text>\n",
       "</g>\n",
       "<!-- 4&#45;&gt;8 -->\n",
       "<g id=\"edge8\" class=\"edge\"><title>4&#45;&gt;8</title>\n",
       "<path fill=\"none\" stroke=\"black\" d=\"M193.358,-222.907C199.299,-211.873 205.747,-199.898 211.738,-188.773\"/>\n",
       "<polygon fill=\"black\" stroke=\"black\" points=\"214.981,-190.131 216.641,-179.667 208.818,-186.812 214.981,-190.131\"/>\n",
       "</g>\n",
       "<!-- 6 -->\n",
       "<g id=\"node7\" class=\"node\"><title>6</title>\n",
       "<path fill=\"#399de5\" fill-opacity=\"0.200000\" stroke=\"black\" d=\"M83,-68C83,-68 12,-68 12,-68 6,-68 0,-62 0,-56 0,-56 0,-12 0,-12 0,-6 6,-0 12,-0 12,-0 83,-0 83,-0 89,-0 95,-6 95,-12 95,-12 95,-56 95,-56 95,-62 89,-68 83,-68\"/>\n",
       "<text text-anchor=\"start\" x=\"8\" y=\"-52.8\" font-family=\"Helvetica,sans-Serif\" font-size=\"14.00\">gini = 0.4938</text>\n",
       "<text text-anchor=\"start\" x=\"10\" y=\"-37.8\" font-family=\"Helvetica,sans-Serif\" font-size=\"14.00\">samples = 9</text>\n",
       "<text text-anchor=\"start\" x=\"8\" y=\"-22.8\" font-family=\"Helvetica,sans-Serif\" font-size=\"14.00\">value = [4, 5]</text>\n",
       "<text text-anchor=\"start\" x=\"10.5\" y=\"-7.8\" font-family=\"Helvetica,sans-Serif\" font-size=\"14.00\">class = Sold</text>\n",
       "</g>\n",
       "<!-- 5&#45;&gt;6 -->\n",
       "<g id=\"edge6\" class=\"edge\"><title>5&#45;&gt;6</title>\n",
       "<path fill=\"none\" stroke=\"black\" d=\"M86.4135,-103.726C81.5074,-95.0615 76.3179,-85.8962 71.3828,-77.1802\"/>\n",
       "<polygon fill=\"black\" stroke=\"black\" points=\"74.3274,-75.277 66.3546,-68.2996 68.2361,-78.726 74.3274,-75.277\"/>\n",
       "</g>\n",
       "<!-- 7 -->\n",
       "<g id=\"node8\" class=\"node\"><title>7</title>\n",
       "<path fill=\"#e58139\" stroke=\"black\" d=\"M219.5,-68C219.5,-68 125.5,-68 125.5,-68 119.5,-68 113.5,-62 113.5,-56 113.5,-56 113.5,-12 113.5,-12 113.5,-6 119.5,-0 125.5,-0 125.5,-0 219.5,-0 219.5,-0 225.5,-0 231.5,-6 231.5,-12 231.5,-12 231.5,-56 231.5,-56 231.5,-62 225.5,-68 219.5,-68\"/>\n",
       "<text text-anchor=\"start\" x=\"144.5\" y=\"-52.8\" font-family=\"Helvetica,sans-Serif\" font-size=\"14.00\">gini = 0.0</text>\n",
       "<text text-anchor=\"start\" x=\"135\" y=\"-37.8\" font-family=\"Helvetica,sans-Serif\" font-size=\"14.00\">samples = 8</text>\n",
       "<text text-anchor=\"start\" x=\"133\" y=\"-22.8\" font-family=\"Helvetica,sans-Serif\" font-size=\"14.00\">value = [8, 0]</text>\n",
       "<text text-anchor=\"start\" x=\"121.5\" y=\"-7.8\" font-family=\"Helvetica,sans-Serif\" font-size=\"14.00\">class = Deserted</text>\n",
       "</g>\n",
       "<!-- 5&#45;&gt;7 -->\n",
       "<g id=\"edge7\" class=\"edge\"><title>5&#45;&gt;7</title>\n",
       "<path fill=\"none\" stroke=\"black\" d=\"M132.959,-103.726C137.944,-95.0615 143.217,-85.8962 148.232,-77.1802\"/>\n",
       "<polygon fill=\"black\" stroke=\"black\" points=\"151.388,-78.7128 153.341,-68.2996 145.321,-75.2219 151.388,-78.7128\"/>\n",
       "</g>\n",
       "<!-- 11 -->\n",
       "<g id=\"node12\" class=\"node\"><title>11</title>\n",
       "<path fill=\"#399de5\" stroke=\"black\" d=\"M522,-298.5C522,-298.5 451,-298.5 451,-298.5 445,-298.5 439,-292.5 439,-286.5 439,-286.5 439,-242.5 439,-242.5 439,-236.5 445,-230.5 451,-230.5 451,-230.5 522,-230.5 522,-230.5 528,-230.5 534,-236.5 534,-242.5 534,-242.5 534,-286.5 534,-286.5 534,-292.5 528,-298.5 522,-298.5\"/>\n",
       "<text text-anchor=\"start\" x=\"458.5\" y=\"-283.3\" font-family=\"Helvetica,sans-Serif\" font-size=\"14.00\">gini = 0.0</text>\n",
       "<text text-anchor=\"start\" x=\"449\" y=\"-268.3\" font-family=\"Helvetica,sans-Serif\" font-size=\"14.00\">samples = 6</text>\n",
       "<text text-anchor=\"start\" x=\"447\" y=\"-253.3\" font-family=\"Helvetica,sans-Serif\" font-size=\"14.00\">value = [0, 6]</text>\n",
       "<text text-anchor=\"start\" x=\"449.5\" y=\"-238.3\" font-family=\"Helvetica,sans-Serif\" font-size=\"14.00\">class = Sold</text>\n",
       "</g>\n",
       "<!-- 10&#45;&gt;11 -->\n",
       "<g id=\"edge11\" class=\"edge\"><title>10&#45;&gt;11</title>\n",
       "<path fill=\"none\" stroke=\"black\" d=\"M500.214,-341.907C498.293,-331.204 496.213,-319.615 494.268,-308.776\"/>\n",
       "<polygon fill=\"black\" stroke=\"black\" points=\"497.665,-307.891 492.453,-298.667 490.775,-309.128 497.665,-307.891\"/>\n",
       "</g>\n",
       "<!-- 12 -->\n",
       "<g id=\"node13\" class=\"node\"><title>12</title>\n",
       "<path fill=\"#e58139\" stroke=\"black\" d=\"M658.5,-298.5C658.5,-298.5 564.5,-298.5 564.5,-298.5 558.5,-298.5 552.5,-292.5 552.5,-286.5 552.5,-286.5 552.5,-242.5 552.5,-242.5 552.5,-236.5 558.5,-230.5 564.5,-230.5 564.5,-230.5 658.5,-230.5 658.5,-230.5 664.5,-230.5 670.5,-236.5 670.5,-242.5 670.5,-242.5 670.5,-286.5 670.5,-286.5 670.5,-292.5 664.5,-298.5 658.5,-298.5\"/>\n",
       "<text text-anchor=\"start\" x=\"583.5\" y=\"-283.3\" font-family=\"Helvetica,sans-Serif\" font-size=\"14.00\">gini = 0.0</text>\n",
       "<text text-anchor=\"start\" x=\"574\" y=\"-268.3\" font-family=\"Helvetica,sans-Serif\" font-size=\"14.00\">samples = 1</text>\n",
       "<text text-anchor=\"start\" x=\"572\" y=\"-253.3\" font-family=\"Helvetica,sans-Serif\" font-size=\"14.00\">value = [1, 0]</text>\n",
       "<text text-anchor=\"start\" x=\"560.5\" y=\"-238.3\" font-family=\"Helvetica,sans-Serif\" font-size=\"14.00\">class = Deserted</text>\n",
       "</g>\n",
       "<!-- 10&#45;&gt;12 -->\n",
       "<g id=\"edge12\" class=\"edge\"><title>10&#45;&gt;12</title>\n",
       "<path fill=\"none\" stroke=\"black\" d=\"M543.582,-341.907C553.783,-330.432 564.888,-317.938 575.107,-306.442\"/>\n",
       "<polygon fill=\"black\" stroke=\"black\" points=\"577.991,-308.466 582.018,-298.667 572.759,-303.816 577.991,-308.466\"/>\n",
       "</g>\n",
       "</g>\n",
       "</svg>\n"
      ],
      "text/plain": [
       "<graphviz.files.Source at 0x7ffb42ab6128>"
      ]
     },
     "execution_count": 31,
     "metadata": {},
     "output_type": "execute_result"
    }
   ],
   "source": [
    "import graphviz\n",
    "from sklearn import tree\n",
    "\n",
    "dot_data = tree.export_graphviz(clf, out_file=None,\n",
    "                               feature_names=train_X.columns,\n",
    "                               class_names=['Deserted', 'Sold'],\n",
    "                               filled=True, rounded=True,\n",
    "                               special_characters=True)\n",
    "graph = graphviz.Source(dot_data)\n",
    "graph"
   ]
  },
  {
   "cell_type": "markdown",
   "metadata": {},
   "source": [
    "The decision tree isn't that great due to the lack of data. Let's try it with more data."
   ]
  },
  {
   "cell_type": "code",
   "execution_count": null,
   "metadata": {
    "collapsed": true
   },
   "outputs": [],
   "source": []
  }
 ],
 "metadata": {
  "kernelspec": {
   "display_name": "Python [conda root]",
   "language": "python",
   "name": "conda-root-py"
  },
  "language_info": {
   "codemirror_mode": {
    "name": "ipython",
    "version": 3
   },
   "file_extension": ".py",
   "mimetype": "text/x-python",
   "name": "python",
   "nbconvert_exporter": "python",
   "pygments_lexer": "ipython3",
   "version": "3.5.2"
  }
 },
 "nbformat": 4,
 "nbformat_minor": 2
}
